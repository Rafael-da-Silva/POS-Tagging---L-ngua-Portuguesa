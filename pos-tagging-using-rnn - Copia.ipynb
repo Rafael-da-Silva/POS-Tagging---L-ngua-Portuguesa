{
 "cells": [
  {
   "cell_type": "markdown",
   "metadata": {
    "papermill": {
     "duration": 0.023617,
     "end_time": "2020-09-03T02:34:40.953671",
     "exception": false,
     "start_time": "2020-09-03T02:34:40.930054",
     "status": "completed"
    },
    "tags": []
   },
   "source": [
    "# POS Tagging - Língua Portuguesa"
   ]
  },
  {
   "cell_type": "code",
   "execution_count": 64,
   "metadata": {
    "execution": {
     "iopub.execute_input": "2020-09-03T02:34:41.092703Z",
     "iopub.status.busy": "2020-09-03T02:34:41.091939Z",
     "iopub.status.idle": "2020-09-03T02:34:48.262378Z",
     "shell.execute_reply": "2020-09-03T02:34:48.261554Z"
    },
    "papermill": {
     "duration": 7.202599,
     "end_time": "2020-09-03T02:34:48.262526",
     "exception": false,
     "start_time": "2020-09-03T02:34:41.059927",
     "status": "completed"
    },
    "tags": []
   },
   "outputs": [],
   "source": [
    "# import necessary libraries\n",
    "import warnings\n",
    "warnings.filterwarnings(\"ignore\")\n",
    "\n",
    "import numpy as np\n",
    "from matplotlib import pyplot as plt\n",
    "from nltk.corpus import brown\n",
    "from nltk.corpus import treebank\n",
    "from nltk.corpus import conll2000\n",
    "from nltk.corpus import floresta\n",
    "import nltk.corpus\n",
    "nltk.corpus.mac_morpho.words()\n",
    "import seaborn as sns\n",
    "from gensim.models import KeyedVectors\n",
    "from keras.preprocessing.sequence import pad_sequences\n",
    "from keras.utils.np_utils import to_categorical\n",
    "from keras.models import Sequential\n",
    "from keras.layers import Embedding\n",
    "from keras.layers import Dense, Input\n",
    "from keras.layers import TimeDistributed\n",
    "from keras.layers import LSTM, GRU, Bidirectional, SimpleRNN, RNN\n",
    "from keras.models import Model\n",
    "from keras.preprocessing.text import Tokenizer\n",
    "\n",
    "from sklearn.model_selection import train_test_split\n",
    "from sklearn.utils import shuffle"
   ]
  },
  {
   "cell_type": "code",
   "execution_count": 65,
   "metadata": {},
   "outputs": [
    {
     "name": "stderr",
     "output_type": "stream",
     "text": [
      "[nltk_data] Downloading package machado to\n",
      "[nltk_data]     C:\\Users\\rafae\\AppData\\Roaming\\nltk_data...\n",
      "[nltk_data]   Package machado is already up-to-date!\n"
     ]
    },
    {
     "data": {
      "text/plain": [
       "True"
      ]
     },
     "execution_count": 65,
     "metadata": {},
     "output_type": "execute_result"
    }
   ],
   "source": [
    "import nltk\n",
    "nltk.download('machado')"
   ]
  },
  {
   "cell_type": "markdown",
   "metadata": {
    "papermill": {
     "duration": 0.021144,
     "end_time": "2020-09-03T02:34:48.305304",
     "exception": false,
     "start_time": "2020-09-03T02:34:48.284160",
     "status": "completed"
    },
    "tags": []
   },
   "source": [
    "# 1. Carga de dados e pré-processamento"
   ]
  },
  {
   "cell_type": "code",
   "execution_count": 66,
   "metadata": {
    "execution": {
     "iopub.execute_input": "2020-09-03T02:34:48.403237Z",
     "iopub.status.busy": "2020-09-03T02:34:48.402467Z",
     "iopub.status.idle": "2020-09-03T02:34:48.446749Z",
     "shell.execute_reply": "2020-09-03T02:34:48.446118Z"
    },
    "papermill": {
     "duration": 0.078017,
     "end_time": "2020-09-03T02:34:48.446891",
     "exception": false,
     "start_time": "2020-09-03T02:34:48.368874",
     "status": "completed"
    },
    "tags": []
   },
   "outputs": [],
   "source": [
    "# Dados do NLTK\n",
    "treebank_corpus = nltk.corpus.mac_morpho.tagged_sents()\n",
    "brown_corpus = nltk.corpus.floresta.tagged_sents()\n",
    "tagged_sentences = treebank_corpus + brown_corpus"
   ]
  },
  {
   "cell_type": "code",
   "execution_count": 67,
   "metadata": {
    "execution": {
     "iopub.execute_input": "2020-09-03T02:34:48.494920Z",
     "iopub.status.busy": "2020-09-03T02:34:48.494184Z",
     "iopub.status.idle": "2020-09-03T02:35:03.996140Z",
     "shell.execute_reply": "2020-09-03T02:35:03.996743Z"
    },
    "papermill": {
     "duration": 15.528525,
     "end_time": "2020-09-03T02:35:03.996896",
     "exception": false,
     "start_time": "2020-09-03T02:34:48.468371",
     "status": "completed"
    },
    "tags": []
   },
   "outputs": [
    {
     "data": {
      "text/plain": [
       "[('A', 'ART'),\n",
       " ('Apinco', 'NPROP'),\n",
       " ('destaca', 'V'),\n",
       " ('em', 'PREP'),\n",
       " ('seu', 'PROADJ'),\n",
       " ('boletim', 'N'),\n",
       " ('mensal', 'ADJ'),\n",
       " ('que', 'KS'),\n",
       " ('o', 'ART'),\n",
       " ('setor', 'N'),\n",
       " ('avícola', 'ADJ'),\n",
       " ('está', 'V'),\n",
       " ('otimista', 'ADJ'),\n",
       " ('com', 'PREP'),\n",
       " ('o', 'ART'),\n",
       " ('atual', 'ADJ'),\n",
       " ('programa', 'N'),\n",
       " ('de', 'PREP'),\n",
       " ('estabilização', 'N'),\n",
       " ('econômica', 'ADJ')]"
      ]
     },
     "execution_count": 67,
     "metadata": {},
     "output_type": "execute_result"
    }
   ],
   "source": [
    "# Visualizando dados\n",
    "tagged_sentences[7]"
   ]
  },
  {
   "cell_type": "markdown",
   "metadata": {
    "papermill": {
     "duration": 0.021142,
     "end_time": "2020-09-03T02:35:04.039677",
     "exception": false,
     "start_time": "2020-09-03T02:35:04.018535",
     "status": "completed"
    },
    "tags": []
   },
   "source": [
    "## Separação dos dados em palavras (X) e tags (Y)"
   ]
  },
  {
   "cell_type": "code",
   "execution_count": 68,
   "metadata": {
    "execution": {
     "iopub.execute_input": "2020-09-03T02:35:04.134871Z",
     "iopub.status.busy": "2020-09-03T02:35:04.134083Z",
     "iopub.status.idle": "2020-09-03T02:35:15.968318Z",
     "shell.execute_reply": "2020-09-03T02:35:15.967700Z"
    },
    "papermill": {
     "duration": 11.864372,
     "end_time": "2020-09-03T02:35:15.968450",
     "exception": false,
     "start_time": "2020-09-03T02:35:04.104078",
     "status": "completed"
    },
    "tags": []
   },
   "outputs": [],
   "source": [
    "X = [] # Armazenar entrada\n",
    "Y = [] # Armazenar saída\n",
    "\n",
    "for sentence in tagged_sentences:\n",
    "    X_sentence = []\n",
    "    Y_sentence = []\n",
    "    for entity in sentence:         \n",
    "        X_sentence.append(entity[0])  # entity[0] contém palavra\n",
    "        Y_sentence.append(entity[1])  # entity[1] contém tag\n",
    "        \n",
    "    X.append(X_sentence)\n",
    "    Y.append(Y_sentence)"
   ]
  },
  {
   "cell_type": "code",
   "execution_count": 69,
   "metadata": {
    "execution": {
     "iopub.execute_input": "2020-09-03T02:35:16.036272Z",
     "iopub.status.busy": "2020-09-03T02:35:16.030910Z",
     "iopub.status.idle": "2020-09-03T02:35:16.823220Z",
     "shell.execute_reply": "2020-09-03T02:35:16.822554Z"
    },
    "papermill": {
     "duration": 0.832986,
     "end_time": "2020-09-03T02:35:16.823347",
     "exception": false,
     "start_time": "2020-09-03T02:35:15.990361",
     "status": "completed"
    },
    "tags": []
   },
   "outputs": [],
   "source": [
    "num_words = len(set([word.lower() for sentence in X for word in sentence]))\n",
    "num_tags   = len(set([word.lower() for sentence in Y for word in sentence]))"
   ]
  },
  {
   "cell_type": "code",
   "execution_count": 70,
   "metadata": {
    "execution": {
     "iopub.execute_input": "2020-09-03T02:35:16.873792Z",
     "iopub.status.busy": "2020-09-03T02:35:16.872920Z",
     "iopub.status.idle": "2020-09-03T02:35:16.876500Z",
     "shell.execute_reply": "2020-09-03T02:35:16.877296Z"
    },
    "papermill": {
     "duration": 0.032219,
     "end_time": "2020-09-03T02:35:16.877500",
     "exception": false,
     "start_time": "2020-09-03T02:35:16.845281",
     "status": "completed"
    },
    "tags": []
   },
   "outputs": [
    {
     "name": "stdout",
     "output_type": "stream",
     "text": [
      "Total number of tagged sentences: 60663\n",
      "Vocabulary size: 71569\n",
      "Total number of tags: 341\n"
     ]
    }
   ],
   "source": [
    "print(\"Total number of tagged sentences: {}\".format(len(X)))\n",
    "print(\"Vocabulary size: {}\".format(num_words))\n",
    "print(\"Total number of tags: {}\".format(num_tags))"
   ]
  },
  {
   "cell_type": "code",
   "execution_count": 71,
   "metadata": {
    "execution": {
     "iopub.execute_input": "2020-09-03T02:35:16.928690Z",
     "iopub.status.busy": "2020-09-03T02:35:16.927921Z",
     "iopub.status.idle": "2020-09-03T02:35:16.932207Z",
     "shell.execute_reply": "2020-09-03T02:35:16.931263Z"
    },
    "papermill": {
     "duration": 0.032015,
     "end_time": "2020-09-03T02:35:16.932364",
     "exception": false,
     "start_time": "2020-09-03T02:35:16.900349",
     "status": "completed"
    },
    "tags": []
   },
   "outputs": [
    {
     "name": "stdout",
     "output_type": "stream",
     "text": [
      "sample X:  ['Jersei', 'atinge', 'média', 'de', 'Cr$', '1,4', 'milhão', 'em', 'a', 'venda', 'de', 'a', 'Pinhal', 'em', 'São', 'Paulo'] \n",
      "\n",
      "sample Y:  ['N', 'V', 'N', 'PREP', 'CUR', 'NUM', 'N', 'PREP|+', 'ART', 'N', 'PREP|+', 'ART', 'NPROP', 'PREP', 'NPROP', 'NPROP'] \n",
      "\n"
     ]
    }
   ],
   "source": [
    "# verificação de como os dados ficaram\n",
    "# ponto de dados que será alimentado ao RNN\n",
    "print('sample X: ', X[0], '\\n')\n",
    "print('sample Y: ', Y[0], '\\n')"
   ]
  },
  {
   "cell_type": "code",
   "execution_count": 72,
   "metadata": {
    "execution": {
     "iopub.execute_input": "2020-09-03T02:35:16.983844Z",
     "iopub.status.busy": "2020-09-03T02:35:16.982881Z",
     "iopub.status.idle": "2020-09-03T02:35:16.986315Z",
     "shell.execute_reply": "2020-09-03T02:35:16.986923Z"
    },
    "papermill": {
     "duration": 0.032024,
     "end_time": "2020-09-03T02:35:16.987089",
     "exception": false,
     "start_time": "2020-09-03T02:35:16.955065",
     "status": "completed"
    },
    "tags": []
   },
   "outputs": [
    {
     "name": "stdout",
     "output_type": "stream",
     "text": [
      "Length of first input sequence  : 16\n",
      "Length of first output sequence : 16\n"
     ]
    }
   ],
   "source": [
    "# Neste problema muitos para muitos, o comprimento de cada seqüência de entrada e saída deve ser o mesmo\n",
    "# Uma vez que cada palavra é marcada, é importante certificar-se de que o comprimento da sequência de entrada é igual à sequência de saída\n",
    "print(\"Length of first input sequence  : {}\".format(len(X[0])))\n",
    "print(\"Length of first output sequence : {}\".format(len(Y[0])))"
   ]
  },
  {
   "cell_type": "markdown",
   "metadata": {
    "papermill": {
     "duration": 0.021868,
     "end_time": "2020-09-03T02:35:17.031238",
     "exception": false,
     "start_time": "2020-09-03T02:35:17.009370",
     "status": "completed"
    },
    "tags": []
   },
   "source": [
    "## Vetorizando X e Y"
   ]
  },
  {
   "cell_type": "markdown",
   "metadata": {
    "papermill": {
     "duration": 0.022328,
     "end_time": "2020-09-03T02:35:17.075860",
     "exception": false,
     "start_time": "2020-09-03T02:35:17.053532",
     "status": "completed"
    },
    "tags": []
   },
   "source": [
    "#### Codificar X e Y para valores inteiros\n",
    "\n",
    "Será usada a função Tokenizer () da biblioteca Keras para codificar a sequência de texto em sequência inteira"
   ]
  },
  {
   "cell_type": "code",
   "execution_count": 73,
   "metadata": {
    "execution": {
     "iopub.execute_input": "2020-09-03T02:35:17.159549Z",
     "iopub.status.busy": "2020-09-03T02:35:17.153980Z",
     "iopub.status.idle": "2020-09-03T02:35:20.020127Z",
     "shell.execute_reply": "2020-09-03T02:35:20.019372Z"
    },
    "papermill": {
     "duration": 2.921831,
     "end_time": "2020-09-03T02:35:20.020251",
     "exception": false,
     "start_time": "2020-09-03T02:35:17.098420",
     "status": "completed"
    },
    "tags": []
   },
   "outputs": [],
   "source": [
    "# codificando X\n",
    "\n",
    "word_tokenizer = Tokenizer()                      # instanciar o tokeniser\n",
    "word_tokenizer.fit_on_texts(X)                    # ajustando dados\n",
    "X_encoded = word_tokenizer.texts_to_sequences(X)  # codificar sequencia de entrada"
   ]
  },
  {
   "cell_type": "code",
   "execution_count": 74,
   "metadata": {
    "execution": {
     "iopub.execute_input": "2020-09-03T02:35:20.109310Z",
     "iopub.status.busy": "2020-09-03T02:35:20.104523Z",
     "iopub.status.idle": "2020-09-03T02:35:22.422955Z",
     "shell.execute_reply": "2020-09-03T02:35:22.422256Z"
    },
    "papermill": {
     "duration": 2.380373,
     "end_time": "2020-09-03T02:35:22.423081",
     "exception": false,
     "start_time": "2020-09-03T02:35:20.042708",
     "status": "completed"
    },
    "tags": []
   },
   "outputs": [],
   "source": [
    "# codificando Y\n",
    "\n",
    "tag_tokenizer = Tokenizer()\n",
    "tag_tokenizer.fit_on_texts(Y)\n",
    "Y_encoded = tag_tokenizer.texts_to_sequences(Y)"
   ]
  },
  {
   "cell_type": "code",
   "execution_count": 75,
   "metadata": {
    "execution": {
     "iopub.execute_input": "2020-09-03T02:35:22.477495Z",
     "iopub.status.busy": "2020-09-03T02:35:22.476401Z",
     "iopub.status.idle": "2020-09-03T02:35:22.481192Z",
     "shell.execute_reply": "2020-09-03T02:35:22.480443Z"
    },
    "papermill": {
     "duration": 0.035913,
     "end_time": "2020-09-03T02:35:22.481315",
     "exception": false,
     "start_time": "2020-09-03T02:35:22.445402",
     "status": "completed"
    },
    "tags": []
   },
   "outputs": [
    {
     "name": "stdout",
     "output_type": "stream",
     "text": [
      "** Raw data point ** \n",
      " ---------------------------------------------------------------------------------------------------- \n",
      "\n",
      "X:  ['Jersei', 'atinge', 'média', 'de', 'Cr$', '1,4', 'milhão', 'em', 'a', 'venda', 'de', 'a', 'Pinhal', 'em', 'São', 'Paulo'] \n",
      "\n",
      "Y:  ['N', 'V', 'N', 'PREP', 'CUR', 'NUM', 'N', 'PREP|+', 'ART', 'N', 'PREP|+', 'ART', 'NPROP', 'PREP', 'NPROP', 'NPROP'] \n",
      "\n",
      "\n",
      "** Encoded data point ** \n",
      " ---------------------------------------------------------------------------------------------------- \n",
      "\n",
      "X:  [15505, 3009, 208, 1, 192, 7360, 759, 5, 2, 433, 1, 2, 15506, 5, 26, 50] \n",
      "\n",
      "Y:  [1, 5, 1, 4, 40, 17, 1, 7, 2, 1, 7, 2, 3, 4, 3, 3] \n",
      "\n"
     ]
    }
   ],
   "source": [
    "# primeiro conjunto codificado\n",
    "\n",
    "print(\"** Raw data point **\", \"\\n\", \"-\"*100, \"\\n\")\n",
    "print('X: ', X[0], '\\n')\n",
    "print('Y: ', Y[0], '\\n')\n",
    "print()\n",
    "print(\"** Encoded data point **\", \"\\n\", \"-\"*100, \"\\n\")\n",
    "print('X: ', X_encoded[0], '\\n')\n",
    "print('Y: ', Y_encoded[0], '\\n')"
   ]
  },
  {
   "cell_type": "code",
   "execution_count": 76,
   "metadata": {
    "execution": {
     "iopub.execute_input": "2020-09-03T02:35:22.553277Z",
     "iopub.status.busy": "2020-09-03T02:35:22.544696Z",
     "iopub.status.idle": "2020-09-03T02:35:22.557447Z",
     "shell.execute_reply": "2020-09-03T02:35:22.556859Z"
    },
    "papermill": {
     "duration": 0.053813,
     "end_time": "2020-09-03T02:35:22.557605",
     "exception": false,
     "start_time": "2020-09-03T02:35:22.503792",
     "status": "completed"
    },
    "tags": []
   },
   "outputs": [
    {
     "name": "stdout",
     "output_type": "stream",
     "text": [
      "0 sentences have disparate input-output lengths.\n"
     ]
    }
   ],
   "source": [
    "# cada sequência de entrada e saída tem o mesmo comprimento\n",
    "\n",
    "different_length = [1 if len(input) != len(output) else 0 for input, output in zip(X_encoded, Y_encoded)]\n",
    "print(\"{} sentences have disparate input-output lengths.\".format(sum(different_length)))"
   ]
  },
  {
   "cell_type": "markdown",
   "metadata": {
    "papermill": {
     "duration": 0.022185,
     "end_time": "2020-09-03T02:35:22.602403",
     "exception": false,
     "start_time": "2020-09-03T02:35:22.580218",
     "status": "completed"
    },
    "tags": []
   },
   "source": [
    "## Sequencias"
   ]
  },
  {
   "cell_type": "markdown",
   "metadata": {
    "papermill": {
     "duration": 0.022316,
     "end_time": "2020-09-03T02:35:22.647310",
     "exception": false,
     "start_time": "2020-09-03T02:35:22.624994",
     "status": "completed"
    },
    "tags": []
   },
   "source": [
    "A próxima etapa após codificar os dados é definir os comprimentos da sequência. A partir de agora, as frases presentes nos dados têm vários comprimentos. Precisamos preencher frases curtas ou truncar frases longas para um comprimento fixo. Esse comprimento fixo, no entanto, é um hiperparâmetro."
   ]
  },
  {
   "cell_type": "code",
   "execution_count": 77,
   "metadata": {
    "execution": {
     "iopub.execute_input": "2020-09-03T02:35:22.707131Z",
     "iopub.status.busy": "2020-09-03T02:35:22.706291Z",
     "iopub.status.idle": "2020-09-03T02:35:22.710690Z",
     "shell.execute_reply": "2020-09-03T02:35:22.710034Z"
    },
    "papermill": {
     "duration": 0.040865,
     "end_time": "2020-09-03T02:35:22.710830",
     "exception": false,
     "start_time": "2020-09-03T02:35:22.669965",
     "status": "completed"
    },
    "tags": []
   },
   "outputs": [
    {
     "name": "stdout",
     "output_type": "stream",
     "text": [
      "Length of longest sentence: 617\n"
     ]
    }
   ],
   "source": [
    "# comprimento da frase mais longa\n",
    "lengths = [len(seq) for seq in X_encoded]\n",
    "print(\"Length of longest sentence: {}\".format(max(lengths)))"
   ]
  },
  {
   "cell_type": "code",
   "execution_count": 78,
   "metadata": {
    "execution": {
     "iopub.execute_input": "2020-09-03T02:35:22.778200Z",
     "iopub.status.busy": "2020-09-03T02:35:22.777427Z",
     "iopub.status.idle": "2020-09-03T02:35:22.968596Z",
     "shell.execute_reply": "2020-09-03T02:35:22.967976Z"
    },
    "papermill": {
     "duration": 0.234736,
     "end_time": "2020-09-03T02:35:22.968727",
     "exception": false,
     "start_time": "2020-09-03T02:35:22.733991",
     "status": "completed"
    },
    "tags": []
   },
   "outputs": [
    {
     "data": {
      "image/png": "[encoded data removed]",
      "text/plain": [
       "<Figure size 432x288 with 1 Axes>"
      ]
     },
     "metadata": {
      "needs_background": "light"
     },
     "output_type": "display_data"
    }
   ],
   "source": [
    "sns.boxplot(lengths)\n",
    "plt.show()"
   ]
  },
  {
   "cell_type": "code",
   "execution_count": 79,
   "metadata": {
    "execution": {
     "iopub.execute_input": "2020-09-03T02:35:23.037957Z",
     "iopub.status.busy": "2020-09-03T02:35:23.037171Z",
     "iopub.status.idle": "2020-09-03T02:35:24.610568Z",
     "shell.execute_reply": "2020-09-03T02:35:24.609855Z"
    },
    "papermill": {
     "duration": 1.618897,
     "end_time": "2020-09-03T02:35:24.610702",
     "exception": false,
     "start_time": "2020-09-03T02:35:22.991805",
     "status": "completed"
    },
    "tags": []
   },
   "outputs": [],
   "source": [
    "# Preencha cada sequência para MAX_SEQ_LENGTH usando a função pad_sequences () de KERAS.\n",
    "# Frases com mais de MAX_SEQ_LENGTH são truncadas.\n",
    "# Frases menores que MAX_SEQ_LENGTH são preenchidas com zeros.\n",
    "\n",
    "# O truncamento e o preenchimento podem ser 'pré' ou 'pós'.\n",
    "# Para preenchimento, estamos usando o tipo de preenchimento 'pré', ou seja, adicionar zeros no lado esquerdo.\n",
    "# Para truncamento, estamos usando 'post', ou seja, truncar uma frase do lado direito.\n",
    "\n",
    "MAX_SEQ_LENGTH = 70  # sequências maiores que 100 de comprimento serão truncadas\n",
    "\n",
    "X_padded = pad_sequences(X_encoded, maxlen=MAX_SEQ_LENGTH, padding=\"pre\", truncating=\"post\")\n",
    "Y_padded = pad_sequences(Y_encoded, maxlen=MAX_SEQ_LENGTH, padding=\"pre\", truncating=\"post\")"
   ]
  },
  {
   "cell_type": "code",
   "execution_count": 80,
   "metadata": {
    "execution": {
     "iopub.execute_input": "2020-09-03T02:35:24.665786Z",
     "iopub.status.busy": "2020-09-03T02:35:24.664808Z",
     "iopub.status.idle": "2020-09-03T02:35:24.670710Z",
     "shell.execute_reply": "2020-09-03T02:35:24.669688Z"
    },
    "papermill": {
     "duration": 0.036923,
     "end_time": "2020-09-03T02:35:24.670900",
     "exception": false,
     "start_time": "2020-09-03T02:35:24.633977",
     "status": "completed"
    },
    "scrolled": true,
    "tags": []
   },
   "outputs": [
    {
     "name": "stdout",
     "output_type": "stream",
     "text": [
      "[    0     0     0     0     0     0     0     0     0     0     0     0\n",
      "     0     0     0     0     0     0     0     0     0     0     0     0\n",
      "     0     0     0     0     0     0     0     0     0     0     0     0\n",
      "     0     0     0     0     0     0     0     0     0     0     0     0\n",
      "     0     0     0     0     0     0 15505  3009   208     1   192  7360\n",
      "   759     5     2   433     1     2 15506     5    26    50] \n",
      "\n",
      "\n",
      "\n",
      "[ 0  0  0  0  0  0  0  0  0  0  0  0  0  0  0  0  0  0  0  0  0  0  0  0\n",
      "  0  0  0  0  0  0  0  0  0  0  0  0  0  0  0  0  0  0  0  0  0  0  0  0\n",
      "  0  0  0  0  0  0  1  5  1  4 40 17  1  7  2  1  7  2  3  4  3  3]\n"
     ]
    }
   ],
   "source": [
    "# mostrando primeira sequencia\n",
    "print(X_padded[0], \"\\n\"*3)\n",
    "print(Y_padded[0])"
   ]
  },
  {
   "cell_type": "markdown",
   "metadata": {
    "collapsed": true,
    "papermill": {
     "duration": 0.022919,
     "end_time": "2020-09-03T02:35:24.717937",
     "exception": false,
     "start_time": "2020-09-03T02:35:24.695018",
     "status": "completed"
    },
    "tags": []
   },
   "source": [
    "RNN aprenderá o mapeamento de zero a zero durante o treinamento. Portanto, não precisamos nos preocupar com os zeros preenchidos. Observe que o zero não é reservado para nenhuma palavra ou tag, ele é reservado apenas para preenchimento."
   ]
  },
  {
   "cell_type": "code",
   "execution_count": 81,
   "metadata": {
    "execution": {
     "iopub.execute_input": "2020-09-03T02:35:24.825010Z",
     "iopub.status.busy": "2020-09-03T02:35:24.823959Z",
     "iopub.status.idle": "2020-09-03T02:35:24.827772Z",
     "shell.execute_reply": "2020-09-03T02:35:24.826972Z"
    },
    "papermill": {
     "duration": 0.086815,
     "end_time": "2020-09-03T02:35:24.827902",
     "exception": false,
     "start_time": "2020-09-03T02:35:24.741087",
     "status": "completed"
    },
    "tags": []
   },
   "outputs": [],
   "source": [
    "# atribuir sequências preenchidas a X e Y\n",
    "X, Y = X_padded, Y_padded"
   ]
  },
  {
   "cell_type": "markdown",
   "metadata": {
    "papermill": {
     "duration": 0.023093,
     "end_time": "2020-09-03T02:35:24.874723",
     "exception": false,
     "start_time": "2020-09-03T02:35:24.851630",
     "status": "completed"
    },
    "tags": []
   },
   "source": [
    "## Word embeddings"
   ]
  },
  {
   "cell_type": "markdown",
   "metadata": {
    "papermill": {
     "duration": 0.022926,
     "end_time": "2020-09-03T02:35:24.920821",
     "exception": false,
     "start_time": "2020-09-03T02:35:24.897895",
     "status": "completed"
    },
    "tags": []
   },
   "source": [
    "Atualmente, cada palavra e cada tag é codificada como um número inteiro.\n",
    "\n",
    "Usaremos uma técnica mais sofisticada para representar as palavras de entrada (X) usando o que é conhecido como embeddings de palavras.\n",
    "\n",
    "No entanto, para representar cada tag em Y, vamos simplesmente usar o esquema one-hot encoding, pois há apenas 13 tags no conjunto de dados e o LSTM não terá problemas em aprender sua própria representação dessas tags."
   ]
  },
  {
   "cell_type": "markdown",
   "metadata": {
    "papermill": {
     "duration": 0.022696,
     "end_time": "2020-09-03T02:35:25.012728",
     "exception": false,
     "start_time": "2020-09-03T02:35:24.990032",
     "status": "completed"
    },
    "tags": []
   },
   "source": [
    "### Use embeddings de palavras para sequências de entrada (X)"
   ]
  },
  {
   "cell_type": "code",
   "execution_count": 82,
   "metadata": {
    "execution": {
     "iopub.execute_input": "2020-09-03T02:35:25.065763Z",
     "iopub.status.busy": "2020-09-03T02:35:25.064932Z",
     "iopub.status.idle": "2020-09-03T02:36:04.578293Z",
     "shell.execute_reply": "2020-09-03T02:36:04.577489Z"
    },
    "papermill": {
     "duration": 39.542546,
     "end_time": "2020-09-03T02:36:04.578432",
     "exception": false,
     "start_time": "2020-09-03T02:35:25.035886",
     "status": "completed"
    },
    "tags": []
   },
   "outputs": [],
   "source": [
    "word2vec = KeyedVectors.load_word2vec_format(r'D:\\HD 1TB\\Downloads Google Chrome\\glove_s50\\glove_s50.txt')"
   ]
  },
  {
   "cell_type": "code",
   "execution_count": 84,
   "metadata": {
    "execution": {
     "iopub.execute_input": "2020-09-03T02:36:13.425051Z",
     "iopub.status.busy": "2020-09-03T02:36:13.424008Z",
     "iopub.status.idle": "2020-09-03T02:36:13.788026Z",
     "shell.execute_reply": "2020-09-03T02:36:13.787047Z"
    },
    "papermill": {
     "duration": 0.392889,
     "end_time": "2020-09-03T02:36:13.788184",
     "exception": false,
     "start_time": "2020-09-03T02:36:13.395295",
     "status": "completed"
    },
    "tags": []
   },
   "outputs": [],
   "source": [
    "# atribuir vetores de palavras do modelo word2vec\n",
    "\n",
    "EMBEDDING_SIZE  = 50  # cada palavra no modelo word2vec é representada usando um vetor de 50 dimensões\n",
    "VOCABULARY_SIZE = len(word_tokenizer.word_index) + 1\n",
    "\n",
    "# matriz vazia\n",
    "embedding_weights = np.zeros((VOCABULARY_SIZE, EMBEDDING_SIZE))\n",
    "\n",
    "# criar uma palavra para indexar o mapeamento do dicionário\n",
    "word2id = word_tokenizer.word_index\n",
    "\n",
    "# vetores do modelo word2vec para as palavras presentes no corpus\n",
    "for word, index in word2id.items():\n",
    "    try:\n",
    "        embedding_weights[index, :] = word2vec[word]\n",
    "    except KeyError:\n",
    "        pass"
   ]
  },
  {
   "cell_type": "code",
   "execution_count": 85,
   "metadata": {
    "execution": {
     "iopub.execute_input": "2020-09-03T02:36:13.842205Z",
     "iopub.status.busy": "2020-09-03T02:36:13.841297Z",
     "iopub.status.idle": "2020-09-03T02:36:13.844855Z",
     "shell.execute_reply": "2020-09-03T02:36:13.845683Z"
    },
    "papermill": {
     "duration": 0.033008,
     "end_time": "2020-09-03T02:36:13.845895",
     "exception": false,
     "start_time": "2020-09-03T02:36:13.812887",
     "status": "completed"
    },
    "tags": []
   },
   "outputs": [
    {
     "name": "stdout",
     "output_type": "stream",
     "text": [
      "Embeddings shape: (71570, 50)\n"
     ]
    }
   ],
   "source": [
    "# verificar dimensão\n",
    "print(\"Embeddings shape: {}\".format(embedding_weights.shape))"
   ]
  },
  {
   "cell_type": "markdown",
   "metadata": {
    "papermill": {
     "duration": 0.023381,
     "end_time": "2020-09-03T02:36:13.957060",
     "exception": false,
     "start_time": "2020-09-03T02:36:13.933679",
     "status": "completed"
    },
    "tags": []
   },
   "source": [
    "### Use one-hot encoding for output sequences (Y)"
   ]
  },
  {
   "cell_type": "code",
   "execution_count": 87,
   "metadata": {
    "execution": {
     "iopub.execute_input": "2020-09-03T02:36:14.009804Z",
     "iopub.status.busy": "2020-09-03T02:36:14.008994Z",
     "iopub.status.idle": "2020-09-03T02:36:14.353970Z",
     "shell.execute_reply": "2020-09-03T02:36:14.354737Z"
    },
    "papermill": {
     "duration": 0.374005,
     "end_time": "2020-09-03T02:36:14.354957",
     "exception": false,
     "start_time": "2020-09-03T02:36:13.980952",
     "status": "completed"
    },
    "tags": []
   },
   "outputs": [],
   "source": [
    "# função to_categorical de Keras para codificar Y\n",
    "Y = to_categorical(Y)"
   ]
  },
  {
   "cell_type": "code",
   "execution_count": 88,
   "metadata": {
    "execution": {
     "iopub.execute_input": "2020-09-03T02:36:14.424936Z",
     "iopub.status.busy": "2020-09-03T02:36:14.423785Z",
     "iopub.status.idle": "2020-09-03T02:36:14.431437Z",
     "shell.execute_reply": "2020-09-03T02:36:14.430606Z"
    },
    "papermill": {
     "duration": 0.043315,
     "end_time": "2020-09-03T02:36:14.431636",
     "exception": false,
     "start_time": "2020-09-03T02:36:14.388321",
     "status": "completed"
    },
    "tags": []
   },
   "outputs": [
    {
     "name": "stdout",
     "output_type": "stream",
     "text": [
      "(60663, 70, 342)\n"
     ]
    }
   ],
   "source": [
    "# Y da primeira sequência de saída\n",
    "print(Y.shape)"
   ]
  },
  {
   "cell_type": "markdown",
   "metadata": {
    "papermill": {
     "duration": 0.023899,
     "end_time": "2020-09-03T02:36:14.480991",
     "exception": false,
     "start_time": "2020-09-03T02:36:14.457092",
     "status": "completed"
    },
    "tags": []
   },
   "source": [
    "## Dados em conjuntos de treinamento, validação e teste"
   ]
  },
  {
   "cell_type": "code",
   "execution_count": 89,
   "metadata": {
    "execution": {
     "iopub.execute_input": "2020-09-03T02:36:14.539159Z",
     "iopub.status.busy": "2020-09-03T02:36:14.538385Z",
     "iopub.status.idle": "2020-09-03T02:36:14.690633Z",
     "shell.execute_reply": "2020-09-03T02:36:14.689947Z"
    },
    "papermill": {
     "duration": 0.185505,
     "end_time": "2020-09-03T02:36:14.690762",
     "exception": false,
     "start_time": "2020-09-03T02:36:14.505257",
     "status": "completed"
    },
    "tags": []
   },
   "outputs": [],
   "source": [
    "# dividir todos os dados em conjuntos de treinamento e teste\n",
    "TEST_SIZE = 0.15\n",
    "X_train, X_test, Y_train, Y_test = train_test_split(X, Y, test_size=TEST_SIZE, random_state=4)"
   ]
  },
  {
   "cell_type": "code",
   "execution_count": 90,
   "metadata": {
    "execution": {
     "iopub.execute_input": "2020-09-03T02:36:14.747636Z",
     "iopub.status.busy": "2020-09-03T02:36:14.746864Z",
     "iopub.status.idle": "2020-09-03T02:36:14.869431Z",
     "shell.execute_reply": "2020-09-03T02:36:14.868710Z"
    },
    "papermill": {
     "duration": 0.154514,
     "end_time": "2020-09-03T02:36:14.869603",
     "exception": false,
     "start_time": "2020-09-03T02:36:14.715089",
     "status": "completed"
    },
    "tags": []
   },
   "outputs": [],
   "source": [
    "# dividir os dados de treinamento em conjuntos de treinamento e validação\n",
    "VALID_SIZE = 0.15\n",
    "X_train, X_validation, Y_train, Y_validation = train_test_split(X_train, Y_train, test_size=VALID_SIZE, random_state=4)"
   ]
  },
  {
   "cell_type": "code",
   "execution_count": 91,
   "metadata": {
    "execution": {
     "iopub.execute_input": "2020-09-03T02:36:14.928869Z",
     "iopub.status.busy": "2020-09-03T02:36:14.927683Z",
     "iopub.status.idle": "2020-09-03T02:36:14.934043Z",
     "shell.execute_reply": "2020-09-03T02:36:14.933155Z"
    },
    "papermill": {
     "duration": 0.039933,
     "end_time": "2020-09-03T02:36:14.934230",
     "exception": false,
     "start_time": "2020-09-03T02:36:14.894297",
     "status": "completed"
    },
    "tags": []
   },
   "outputs": [
    {
     "name": "stdout",
     "output_type": "stream",
     "text": [
      "TRAINING DATA\n",
      "Shape of input sequences: (43828, 70)\n",
      "Shape of output sequences: (43828, 70, 342)\n",
      "--------------------------------------------------\n",
      "VALIDATION DATA\n",
      "Shape of input sequences: (7735, 70)\n",
      "Shape of output sequences: (7735, 70, 342)\n",
      "--------------------------------------------------\n",
      "TESTING DATA\n",
      "Shape of input sequences: (9100, 70)\n",
      "Shape of output sequences: (9100, 70, 342)\n"
     ]
    }
   ],
   "source": [
    "# imprimir o número de amostras em cada conjunto\n",
    "print(\"TRAINING DATA\")\n",
    "print('Shape of input sequences: {}'.format(X_train.shape))\n",
    "print('Shape of output sequences: {}'.format(Y_train.shape))\n",
    "print(\"-\"*50)\n",
    "print(\"VALIDATION DATA\")\n",
    "print('Shape of input sequences: {}'.format(X_validation.shape))\n",
    "print('Shape of output sequences: {}'.format(Y_validation.shape))\n",
    "print(\"-\"*50)\n",
    "print(\"TESTING DATA\")\n",
    "print('Shape of input sequences: {}'.format(X_test.shape))\n",
    "print('Shape of output sequences: {}'.format(Y_test.shape))"
   ]
  },
  {
   "cell_type": "markdown",
   "metadata": {
    "papermill": {
     "duration": 0.02402,
     "end_time": "2020-09-03T02:36:15.032936",
     "exception": false,
     "start_time": "2020-09-03T02:36:15.008916",
     "status": "completed"
    },
    "tags": []
   },
   "source": [
    "# 2. Vanilla RNN"
   ]
  },
  {
   "cell_type": "markdown",
   "metadata": {
    "papermill": {
     "duration": 0.024197,
     "end_time": "2020-09-03T02:36:15.081685",
     "exception": false,
     "start_time": "2020-09-03T02:36:15.057488",
     "status": "completed"
    },
    "tags": []
   },
   "source": [
    "### Embeddings fixos não inicializados\n",
    "Primeiro, vamos tentar executar um RNN vanilla. Para este RNN não usaremos embeddings de palavras pré-treinadas. Usaremos embeddings inicializados aleatoriamente. Além disso, não atualizaremos os pesos dos embeddings."
   ]
  },
  {
   "cell_type": "code",
   "execution_count": 92,
   "metadata": {
    "execution": {
     "iopub.execute_input": "2020-09-03T02:36:15.136149Z",
     "iopub.status.busy": "2020-09-03T02:36:15.135384Z",
     "iopub.status.idle": "2020-09-03T02:36:15.138606Z",
     "shell.execute_reply": "2020-09-03T02:36:15.138007Z"
    },
    "papermill": {
     "duration": 0.032496,
     "end_time": "2020-09-03T02:36:15.138737",
     "exception": false,
     "start_time": "2020-09-03T02:36:15.106241",
     "status": "completed"
    },
    "tags": []
   },
   "outputs": [],
   "source": [
    "# numero de tags\n",
    "NUM_CLASSES = Y.shape[2]"
   ]
  },
  {
   "cell_type": "code",
   "execution_count": 93,
   "metadata": {
    "execution": {
     "iopub.execute_input": "2020-09-03T02:36:15.203267Z",
     "iopub.status.busy": "2020-09-03T02:36:15.202276Z",
     "iopub.status.idle": "2020-09-03T02:36:15.579658Z",
     "shell.execute_reply": "2020-09-03T02:36:15.579012Z"
    },
    "papermill": {
     "duration": 0.415823,
     "end_time": "2020-09-03T02:36:15.579800",
     "exception": false,
     "start_time": "2020-09-03T02:36:15.163977",
     "status": "completed"
    },
    "tags": []
   },
   "outputs": [],
   "source": [
    "# criação da arquitetura\n",
    "\n",
    "rnn_model = Sequential()\n",
    "\n",
    "# criar camada de incorporação - geralmente a primeira camada em problemas de texto\n",
    "rnn_model.add(Embedding(input_dim     =  VOCABULARY_SIZE,         # tamanho do vocabulário - número de palavras únicas nos dados\n",
    "                        output_dim    =  EMBEDDING_SIZE,          # comprimento do vetor com o qual cada palavra é representada\n",
    "                        input_length  =  MAX_SEQ_LENGTH,          # comprimento da sequência de entrada\n",
    "                        trainable     =  False                    # False - não atualize os embeddings\n",
    "))\n",
    "\n",
    "# adicionar uma camada RNN que contém 64 células RNN\n",
    "rnn_model.add(SimpleRNN(64, \n",
    "              return_sequences=True  # Verdadeiro - retorna a sequência inteira; Falso - retorna uma única saída do final da sequência\n",
    "))\n",
    "\n",
    "# adicionar camada distribuída no tempo (saída em cada sequência)\n",
    "rnn_model.add(TimeDistributed(Dense(NUM_CLASSES, activation='softmax')))"
   ]
  },
  {
   "cell_type": "markdown",
   "metadata": {
    "papermill": {
     "duration": 0.024307,
     "end_time": "2020-09-03T02:36:15.629059",
     "exception": false,
     "start_time": "2020-09-03T02:36:15.604752",
     "status": "completed"
    },
    "tags": []
   },
   "source": [
    "## Compile modelo"
   ]
  },
  {
   "cell_type": "code",
   "execution_count": 94,
   "metadata": {
    "execution": {
     "iopub.execute_input": "2020-09-03T02:36:15.691741Z",
     "iopub.status.busy": "2020-09-03T02:36:15.690945Z",
     "iopub.status.idle": "2020-09-03T02:36:15.697256Z",
     "shell.execute_reply": "2020-09-03T02:36:15.696558Z"
    },
    "papermill": {
     "duration": 0.043716,
     "end_time": "2020-09-03T02:36:15.697386",
     "exception": false,
     "start_time": "2020-09-03T02:36:15.653670",
     "status": "completed"
    },
    "tags": []
   },
   "outputs": [],
   "source": [
    "rnn_model.compile(loss      =  'categorical_crossentropy',\n",
    "                  optimizer =  'adam',\n",
    "                  metrics   =  ['acc'])"
   ]
  },
  {
   "cell_type": "code",
   "execution_count": 95,
   "metadata": {
    "execution": {
     "iopub.execute_input": "2020-09-03T02:36:15.753792Z",
     "iopub.status.busy": "2020-09-03T02:36:15.752695Z",
     "iopub.status.idle": "2020-09-03T02:36:15.760886Z",
     "shell.execute_reply": "2020-09-03T02:36:15.760270Z"
    },
    "papermill": {
     "duration": 0.038832,
     "end_time": "2020-09-03T02:36:15.761013",
     "exception": false,
     "start_time": "2020-09-03T02:36:15.722181",
     "status": "completed"
    },
    "tags": []
   },
   "outputs": [
    {
     "name": "stdout",
     "output_type": "stream",
     "text": [
      "Model: \"sequential_6\"\n",
      "_________________________________________________________________\n",
      "Layer (type)                 Output Shape              Param #   \n",
      "=================================================================\n",
      "embedding_6 (Embedding)      (None, 70, 50)            3578500   \n",
      "_________________________________________________________________\n",
      "simple_rnn_3 (SimpleRNN)     (None, 70, 64)            7360      \n",
      "_________________________________________________________________\n",
      "time_distributed_6 (TimeDist (None, 70, 342)           22230     \n",
      "=================================================================\n",
      "Total params: 3,608,090\n",
      "Trainable params: 29,590\n",
      "Non-trainable params: 3,578,500\n",
      "_________________________________________________________________\n"
     ]
    }
   ],
   "source": [
    "# resumo do modelo\n",
    "rnn_model.summary()"
   ]
  },
  {
   "cell_type": "markdown",
   "metadata": {
    "papermill": {
     "duration": 0.024767,
     "end_time": "2020-09-03T02:36:15.810616",
     "exception": false,
     "start_time": "2020-09-03T02:36:15.785849",
     "status": "completed"
    },
    "tags": []
   },
   "source": [
    "## Fit modelo"
   ]
  },
  {
   "cell_type": "code",
   "execution_count": 96,
   "metadata": {
    "execution": {
     "iopub.execute_input": "2020-09-03T02:36:16.090668Z",
     "iopub.status.busy": "2020-09-03T02:36:16.089811Z",
     "iopub.status.idle": "2020-09-03T02:40:09.621772Z",
     "shell.execute_reply": "2020-09-03T02:40:09.621083Z"
    },
    "papermill": {
     "duration": 233.786548,
     "end_time": "2020-09-03T02:40:09.621919",
     "exception": false,
     "start_time": "2020-09-03T02:36:15.835371",
     "status": "completed"
    },
    "tags": []
   },
   "outputs": [
    {
     "name": "stdout",
     "output_type": "stream",
     "text": [
      "Epoch 1/20\n",
      "343/343 [==============================] - 81s 228ms/step - loss: 2.6803 - acc: 0.5694 - val_loss: 1.2599 - val_acc: 0.6798\n",
      "Epoch 2/20\n",
      "343/343 [==============================] - 81s 235ms/step - loss: 1.2878 - acc: 0.7063 - val_loss: 1.2527 - val_acc: 0.7174\n",
      "Epoch 3/20\n",
      "343/343 [==============================] - 83s 243ms/step - loss: 1.1333 - acc: 0.7264 - val_loss: 1.0573 - val_acc: 0.7321\n",
      "Epoch 4/20\n",
      "343/343 [==============================] - 84s 246ms/step - loss: 1.0611 - acc: 0.7314 - val_loss: 0.9779 - val_acc: 0.7735\n",
      "Epoch 5/20\n",
      "343/343 [==============================] - 79s 231ms/step - loss: 0.9576 - acc: 0.7764 - val_loss: 0.8656 - val_acc: 0.7858\n",
      "Epoch 6/20\n",
      "343/343 [==============================] - 78s 226ms/step - loss: 0.8436 - acc: 0.7882 - val_loss: 0.7834 - val_acc: 0.7978\n",
      "Epoch 7/20\n",
      "343/343 [==============================] - 77s 223ms/step - loss: 0.7806 - acc: 0.7987 - val_loss: 0.7289 - val_acc: 0.8092\n",
      "Epoch 8/20\n",
      "343/343 [==============================] - 71s 208ms/step - loss: 0.7253 - acc: 0.8089 - val_loss: 0.6871 - val_acc: 0.8165\n",
      "Epoch 9/20\n",
      "343/343 [==============================] - 74s 215ms/step - loss: 0.6896 - acc: 0.8157 - val_loss: 0.6561 - val_acc: 0.8228\n",
      "Epoch 10/20\n",
      "343/343 [==============================] - 75s 220ms/step - loss: 0.6524 - acc: 0.8237 - val_loss: 0.6403 - val_acc: 0.8268\n",
      "Epoch 11/20\n",
      "343/343 [==============================] - 72s 209ms/step - loss: 0.6339 - acc: 0.8277 - val_loss: 0.6148 - val_acc: 0.8318\n",
      "Epoch 12/20\n",
      "343/343 [==============================] - 72s 209ms/step - loss: 0.6179 - acc: 0.8307 - val_loss: 0.5986 - val_acc: 0.8348\n",
      "Epoch 13/20\n",
      "343/343 [==============================] - 70s 205ms/step - loss: 0.5955 - acc: 0.8354 - val_loss: 0.5789 - val_acc: 0.8390\n",
      "Epoch 14/20\n",
      "343/343 [==============================] - 74s 217ms/step - loss: 0.5795 - acc: 0.8387 - val_loss: 0.5779 - val_acc: 0.8405\n",
      "Epoch 15/20\n",
      "343/343 [==============================] - 73s 212ms/step - loss: 0.5662 - acc: 0.8416 - val_loss: 0.5549 - val_acc: 0.8439\n",
      "Epoch 16/20\n",
      "343/343 [==============================] - 71s 207ms/step - loss: 0.5568 - acc: 0.8434 - val_loss: 0.5485 - val_acc: 0.8456\n",
      "Epoch 17/20\n",
      "343/343 [==============================] - 72s 211ms/step - loss: 0.5455 - acc: 0.8454 - val_loss: 0.5395 - val_acc: 0.8467\n",
      "Epoch 18/20\n",
      "343/343 [==============================] - 73s 214ms/step - loss: 0.5370 - acc: 0.8470 - val_loss: 0.5330 - val_acc: 0.8479\n",
      "Epoch 19/20\n",
      "343/343 [==============================] - 73s 212ms/step - loss: 0.5289 - acc: 0.8487 - val_loss: 0.5233 - val_acc: 0.8499\n",
      "Epoch 20/20\n",
      "343/343 [==============================] - 72s 209ms/step - loss: 0.5284 - acc: 0.8482 - val_loss: 0.5525 - val_acc: 0.8450\n"
     ]
    }
   ],
   "source": [
    "rnn_training = rnn_model.fit(X_train, Y_train, batch_size=128, epochs=20, validation_data=(X_validation, Y_validation))"
   ]
  },
  {
   "cell_type": "code",
   "execution_count": 97,
   "metadata": {
    "execution": {
     "iopub.execute_input": "2020-09-03T02:40:10.205981Z",
     "iopub.status.busy": "2020-09-03T02:40:10.205240Z",
     "iopub.status.idle": "2020-09-03T02:40:10.416643Z",
     "shell.execute_reply": "2020-09-03T02:40:10.415904Z"
    },
    "papermill": {
     "duration": 0.526583,
     "end_time": "2020-09-03T02:40:10.416763",
     "exception": false,
     "start_time": "2020-09-03T02:40:09.890180",
     "status": "completed"
    },
    "scrolled": true,
    "tags": []
   },
   "outputs": [
    {
     "data": {
      "image/png": "[encoded data removed]",
      "text/plain": [
       "<Figure size 432x288 with 1 Axes>"
      ]
     },
     "metadata": {
      "needs_background": "light"
     },
     "output_type": "display_data"
    }
   ],
   "source": [
    "# visualise training history\n",
    "plt.plot(rnn_training.history['acc'])\n",
    "plt.plot(rnn_training.history['val_acc'])\n",
    "plt.title('model accuracy')\n",
    "plt.ylabel('accuracy')\n",
    "plt.xlabel('epoch')\n",
    "plt.legend(['train', 'test'], loc=\"lower right\")\n",
    "plt.show()"
   ]
  },
  {
   "cell_type": "markdown",
   "metadata": {
    "papermill": {
     "duration": 0.266504,
     "end_time": "2020-09-03T02:40:10.955245",
     "exception": false,
     "start_time": "2020-09-03T02:40:10.688741",
     "status": "completed"
    },
    "tags": []
   },
   "source": [
    "### Embeddings treináveis não inicializados"
   ]
  },
  {
   "cell_type": "code",
   "execution_count": 98,
   "metadata": {
    "execution": {
     "iopub.execute_input": "2020-09-03T02:40:11.496647Z",
     "iopub.status.busy": "2020-09-03T02:40:11.494306Z",
     "iopub.status.idle": "2020-09-03T02:40:11.688353Z",
     "shell.execute_reply": "2020-09-03T02:40:11.687699Z"
    },
    "papermill": {
     "duration": 0.469632,
     "end_time": "2020-09-03T02:40:11.688478",
     "exception": false,
     "start_time": "2020-09-03T02:40:11.218846",
     "status": "completed"
    },
    "tags": []
   },
   "outputs": [],
   "source": [
    "# criação da arquitetura\n",
    "\n",
    "rnn_model = Sequential()\n",
    "\n",
    "rnn_model.add(Embedding(input_dim     =  VOCABULARY_SIZE,        \n",
    "                        output_dim    =  EMBEDDING_SIZE,          \n",
    "                        input_length  =  MAX_SEQ_LENGTH,          \n",
    "                        trainable     =  True                     \n",
    "))\n",
    "\n",
    "\n",
    "rnn_model.add(SimpleRNN(64, \n",
    "              return_sequences=True  \n",
    "))\n",
    "\n",
    "rnn_model.add(TimeDistributed(Dense(NUM_CLASSES, activation='softmax')))"
   ]
  },
  {
   "cell_type": "markdown",
   "metadata": {
    "papermill": {
     "duration": 0.306717,
     "end_time": "2020-09-03T02:40:12.272267",
     "exception": false,
     "start_time": "2020-09-03T02:40:11.965550",
     "status": "completed"
    },
    "tags": []
   },
   "source": [
    "## Compile model"
   ]
  },
  {
   "cell_type": "code",
   "execution_count": 99,
   "metadata": {
    "execution": {
     "iopub.execute_input": "2020-09-03T02:40:12.819321Z",
     "iopub.status.busy": "2020-09-03T02:40:12.818203Z",
     "iopub.status.idle": "2020-09-03T02:40:12.823949Z",
     "shell.execute_reply": "2020-09-03T02:40:12.823185Z"
    },
    "papermill": {
     "duration": 0.289378,
     "end_time": "2020-09-03T02:40:12.824075",
     "exception": false,
     "start_time": "2020-09-03T02:40:12.534697",
     "status": "completed"
    },
    "tags": []
   },
   "outputs": [],
   "source": [
    "rnn_model.compile(loss      =  'categorical_crossentropy',\n",
    "                  optimizer =  'adam',\n",
    "                  metrics   =  ['acc'])"
   ]
  },
  {
   "cell_type": "code",
   "execution_count": 100,
   "metadata": {
    "execution": {
     "iopub.execute_input": "2020-09-03T02:40:13.374778Z",
     "iopub.status.busy": "2020-09-03T02:40:13.373856Z",
     "iopub.status.idle": "2020-09-03T02:40:13.377626Z",
     "shell.execute_reply": "2020-09-03T02:40:13.378570Z"
    },
    "papermill": {
     "duration": 0.275435,
     "end_time": "2020-09-03T02:40:13.378792",
     "exception": false,
     "start_time": "2020-09-03T02:40:13.103357",
     "status": "completed"
    },
    "scrolled": true,
    "tags": []
   },
   "outputs": [
    {
     "name": "stdout",
     "output_type": "stream",
     "text": [
      "Model: \"sequential_7\"\n",
      "_________________________________________________________________\n",
      "Layer (type)                 Output Shape              Param #   \n",
      "=================================================================\n",
      "embedding_7 (Embedding)      (None, 70, 50)            3578500   \n",
      "_________________________________________________________________\n",
      "simple_rnn_4 (SimpleRNN)     (None, 70, 64)            7360      \n",
      "_________________________________________________________________\n",
      "time_distributed_7 (TimeDist (None, 70, 342)           22230     \n",
      "=================================================================\n",
      "Total params: 3,608,090\n",
      "Trainable params: 3,608,090\n",
      "Non-trainable params: 0\n",
      "_________________________________________________________________\n"
     ]
    }
   ],
   "source": [
    "rnn_model.summary()"
   ]
  },
  {
   "cell_type": "markdown",
   "metadata": {
    "papermill": {
     "duration": 0.305385,
     "end_time": "2020-09-03T02:40:13.952922",
     "exception": false,
     "start_time": "2020-09-03T02:40:13.647537",
     "status": "completed"
    },
    "tags": []
   },
   "source": [
    "## Fit modelo"
   ]
  },
  {
   "cell_type": "code",
   "execution_count": 101,
   "metadata": {
    "execution": {
     "iopub.execute_input": "2020-09-03T02:40:14.726242Z",
     "iopub.status.busy": "2020-09-03T02:40:14.725461Z",
     "iopub.status.idle": "2020-09-03T02:59:21.038611Z",
     "shell.execute_reply": "2020-09-03T02:59:21.039235Z"
    },
    "papermill": {
     "duration": 1146.817791,
     "end_time": "2020-09-03T02:59:21.039435",
     "exception": false,
     "start_time": "2020-09-03T02:40:14.221644",
     "status": "completed"
    },
    "tags": []
   },
   "outputs": [
    {
     "name": "stdout",
     "output_type": "stream",
     "text": [
      "Epoch 1/20\n",
      "343/343 [==============================] - 96s 270ms/step - loss: 2.4430 - acc: 0.6626 - val_loss: 0.7736 - val_acc: 0.8156\n",
      "Epoch 2/20\n",
      "343/343 [==============================] - 89s 258ms/step - loss: 0.6197 - acc: 0.8499 - val_loss: 0.3660 - val_acc: 0.9050\n",
      "Epoch 3/20\n",
      "343/343 [==============================] - 75s 218ms/step - loss: 0.3292 - acc: 0.9122 - val_loss: 0.2871 - val_acc: 0.9173\n",
      "Epoch 4/20\n",
      "343/343 [==============================] - 59s 172ms/step - loss: 0.2587 - acc: 0.9237 - val_loss: 0.2377 - val_acc: 0.9296\n",
      "Epoch 5/20\n",
      "343/343 [==============================] - 59s 171ms/step - loss: 0.1990 - acc: 0.9407 - val_loss: 0.2186 - val_acc: 0.9343\n",
      "Epoch 6/20\n",
      "343/343 [==============================] - 58s 168ms/step - loss: 0.1644 - acc: 0.9499 - val_loss: 0.2124 - val_acc: 0.9356\n",
      "Epoch 7/20\n",
      "343/343 [==============================] - 58s 169ms/step - loss: 0.1452 - acc: 0.9547 - val_loss: 0.2092 - val_acc: 0.9360\n",
      "Epoch 8/20\n",
      "343/343 [==============================] - 58s 170ms/step - loss: 0.1343 - acc: 0.9578 - val_loss: 0.2114 - val_acc: 0.9362\n",
      "Epoch 9/20\n",
      "343/343 [==============================] - 57s 165ms/step - loss: 0.1228 - acc: 0.9609 - val_loss: 0.2158 - val_acc: 0.9358\n",
      "Epoch 10/20\n",
      "343/343 [==============================] - 59s 173ms/step - loss: 0.1169 - acc: 0.9623 - val_loss: 0.2262 - val_acc: 0.9373\n",
      "Epoch 11/20\n",
      "343/343 [==============================] - 59s 171ms/step - loss: 0.1112 - acc: 0.9640 - val_loss: 0.2307 - val_acc: 0.9368\n",
      "Epoch 12/20\n",
      "343/343 [==============================] - 60s 174ms/step - loss: 0.1069 - acc: 0.9651 - val_loss: 0.2249 - val_acc: 0.9354\n",
      "Epoch 13/20\n",
      "343/343 [==============================] - 59s 172ms/step - loss: 0.1017 - acc: 0.9667 - val_loss: 0.2274 - val_acc: 0.9366\n",
      "Epoch 14/20\n",
      "343/343 [==============================] - 58s 169ms/step - loss: 0.0991 - acc: 0.9673 - val_loss: 0.2376 - val_acc: 0.9339\n",
      "Epoch 15/20\n",
      "343/343 [==============================] - 60s 174ms/step - loss: 0.0944 - acc: 0.9688 - val_loss: 0.2462 - val_acc: 0.9347\n",
      "Epoch 16/20\n",
      "343/343 [==============================] - 59s 171ms/step - loss: 0.0907 - acc: 0.9699 - val_loss: 0.2456 - val_acc: 0.9349\n",
      "Epoch 17/20\n",
      "343/343 [==============================] - 59s 173ms/step - loss: 0.0889 - acc: 0.9706 - val_loss: 0.2440 - val_acc: 0.9355\n",
      "Epoch 18/20\n",
      "343/343 [==============================] - 60s 175ms/step - loss: 0.0874 - acc: 0.9711 - val_loss: 0.2558 - val_acc: 0.9325\n",
      "Epoch 19/20\n",
      "343/343 [==============================] - 59s 172ms/step - loss: 0.0920 - acc: 0.9701 - val_loss: 0.2496 - val_acc: 0.9345\n",
      "Epoch 20/20\n",
      "343/343 [==============================] - 59s 171ms/step - loss: 0.0821 - acc: 0.9730 - val_loss: 0.2563 - val_acc: 0.9346\n"
     ]
    }
   ],
   "source": [
    "rnn_training = rnn_model.fit(X_train, Y_train, batch_size=128, epochs=20, validation_data=(X_validation, Y_validation))"
   ]
  },
  {
   "cell_type": "code",
   "execution_count": 102,
   "metadata": {
    "execution": {
     "iopub.execute_input": "2020-09-03T02:59:22.146669Z",
     "iopub.status.busy": "2020-09-03T02:59:22.145937Z",
     "iopub.status.idle": "2020-09-03T02:59:22.345442Z",
     "shell.execute_reply": "2020-09-03T02:59:22.344755Z"
    },
    "papermill": {
     "duration": 0.736808,
     "end_time": "2020-09-03T02:59:22.345586",
     "exception": false,
     "start_time": "2020-09-03T02:59:21.608778",
     "status": "completed"
    },
    "scrolled": true,
    "tags": []
   },
   "outputs": [
    {
     "data": {
      "image/png": "[encoded data removed]",
      "text/plain": [
       "<Figure size 432x288 with 1 Axes>"
      ]
     },
     "metadata": {
      "needs_background": "light"
     },
     "output_type": "display_data"
    }
   ],
   "source": [
    "# visualizar histórico de treinamento\n",
    "plt.plot(rnn_training.history['acc'])\n",
    "plt.plot(rnn_training.history['val_acc'])\n",
    "plt.title('model accuracy')\n",
    "plt.ylabel('accuracy')\n",
    "plt.xlabel('epoch')\n",
    "plt.legend(['train', 'test'], loc=\"lower right\")\n",
    "plt.show()"
   ]
  },
  {
   "cell_type": "markdown",
   "metadata": {
    "papermill": {
     "duration": 0.526011,
     "end_time": "2020-09-03T02:59:23.434674",
     "exception": false,
     "start_time": "2020-09-03T02:59:22.908663",
     "status": "completed"
    },
    "tags": []
   },
   "source": [
    "### Usando pesos de incorporação pré-treinados"
   ]
  },
  {
   "cell_type": "code",
   "execution_count": 103,
   "metadata": {
    "execution": {
     "iopub.execute_input": "2020-09-03T02:59:24.548652Z",
     "iopub.status.busy": "2020-09-03T02:59:24.537280Z",
     "iopub.status.idle": "2020-09-03T02:59:24.862474Z",
     "shell.execute_reply": "2020-09-03T02:59:24.861855Z"
    },
    "papermill": {
     "duration": 0.904287,
     "end_time": "2020-09-03T02:59:24.862621",
     "exception": false,
     "start_time": "2020-09-03T02:59:23.958334",
     "status": "completed"
    },
    "tags": []
   },
   "outputs": [],
   "source": [
    "\n",
    "rnn_model = Sequential()\n",
    "\n",
    "rnn_model.add(Embedding(input_dim     =  VOCABULARY_SIZE,         \n",
    "                        output_dim    =  EMBEDDING_SIZE,          \n",
    "                        input_length  =  MAX_SEQ_LENGTH,          \n",
    "                        weights       = [embedding_weights],     \n",
    "                        trainable     =  True                     \n",
    "))\n",
    "\n",
    "\n",
    "rnn_model.add(SimpleRNN(64, \n",
    "              return_sequences=True  \n",
    "))\n",
    "\n",
    "rnn_model.add(TimeDistributed(Dense(NUM_CLASSES, activation='softmax')))"
   ]
  },
  {
   "cell_type": "markdown",
   "metadata": {
    "papermill": {
     "duration": 0.524715,
     "end_time": "2020-09-03T02:59:25.909247",
     "exception": false,
     "start_time": "2020-09-03T02:59:25.384532",
     "status": "completed"
    },
    "tags": []
   },
   "source": [
    "## Compile model"
   ]
  },
  {
   "cell_type": "code",
   "execution_count": 104,
   "metadata": {
    "execution": {
     "iopub.execute_input": "2020-09-03T02:59:27.013436Z",
     "iopub.status.busy": "2020-09-03T02:59:27.012700Z",
     "iopub.status.idle": "2020-09-03T02:59:27.017659Z",
     "shell.execute_reply": "2020-09-03T02:59:27.017061Z"
    },
    "papermill": {
     "duration": 0.537006,
     "end_time": "2020-09-03T02:59:27.017777",
     "exception": false,
     "start_time": "2020-09-03T02:59:26.480771",
     "status": "completed"
    },
    "tags": []
   },
   "outputs": [],
   "source": [
    "rnn_model.compile(loss      =  'categorical_crossentropy',\n",
    "                  optimizer =  'adam',\n",
    "                  metrics   =  ['acc'])"
   ]
  },
  {
   "cell_type": "code",
   "execution_count": 105,
   "metadata": {
    "execution": {
     "iopub.execute_input": "2020-09-03T02:59:28.116645Z",
     "iopub.status.busy": "2020-09-03T02:59:28.115791Z",
     "iopub.status.idle": "2020-09-03T02:59:28.120202Z",
     "shell.execute_reply": "2020-09-03T02:59:28.119354Z"
    },
    "papermill": {
     "duration": 0.57263,
     "end_time": "2020-09-03T02:59:28.120391",
     "exception": false,
     "start_time": "2020-09-03T02:59:27.547761",
     "status": "completed"
    },
    "scrolled": true,
    "tags": []
   },
   "outputs": [
    {
     "name": "stdout",
     "output_type": "stream",
     "text": [
      "Model: \"sequential_8\"\n",
      "_________________________________________________________________\n",
      "Layer (type)                 Output Shape              Param #   \n",
      "=================================================================\n",
      "embedding_8 (Embedding)      (None, 70, 50)            3578500   \n",
      "_________________________________________________________________\n",
      "simple_rnn_5 (SimpleRNN)     (None, 70, 64)            7360      \n",
      "_________________________________________________________________\n",
      "time_distributed_8 (TimeDist (None, 70, 342)           22230     \n",
      "=================================================================\n",
      "Total params: 3,608,090\n",
      "Trainable params: 3,608,090\n",
      "Non-trainable params: 0\n",
      "_________________________________________________________________\n"
     ]
    }
   ],
   "source": [
    "rnn_model.summary()"
   ]
  },
  {
   "cell_type": "markdown",
   "metadata": {
    "papermill": {
     "duration": 0.525948,
     "end_time": "2020-09-03T02:59:29.170006",
     "exception": false,
     "start_time": "2020-09-03T02:59:28.644058",
     "status": "completed"
    },
    "tags": []
   },
   "source": [
    "## Fit modelo"
   ]
  },
  {
   "cell_type": "code",
   "execution_count": 106,
   "metadata": {
    "execution": {
     "iopub.execute_input": "2020-09-03T02:59:30.474056Z",
     "iopub.status.busy": "2020-09-03T02:59:30.472987Z",
     "iopub.status.idle": "2020-09-03T03:18:36.065959Z",
     "shell.execute_reply": "2020-09-03T03:18:36.064888Z"
    },
    "papermill": {
     "duration": 1146.335373,
     "end_time": "2020-09-03T03:18:36.066143",
     "exception": false,
     "start_time": "2020-09-03T02:59:29.730770",
     "status": "completed"
    },
    "tags": []
   },
   "outputs": [
    {
     "name": "stdout",
     "output_type": "stream",
     "text": [
      "Epoch 1/20\n",
      "343/343 [==============================] - 61s 172ms/step - loss: 2.1870 - acc: 0.7031 - val_loss: 0.4678 - val_acc: 0.8824\n",
      "Epoch 2/20\n",
      "343/343 [==============================] - 59s 173ms/step - loss: 0.4130 - acc: 0.8923 - val_loss: 0.3151 - val_acc: 0.9113\n",
      "Epoch 3/20\n",
      "343/343 [==============================] - 59s 171ms/step - loss: 0.2942 - acc: 0.9153 - val_loss: 0.2562 - val_acc: 0.9244\n",
      "Epoch 4/20\n",
      "343/343 [==============================] - 59s 172ms/step - loss: 0.2308 - acc: 0.9319 - val_loss: 0.2244 - val_acc: 0.9325\n",
      "Epoch 5/20\n",
      "343/343 [==============================] - 59s 172ms/step - loss: 0.1989 - acc: 0.9399 - val_loss: 0.2136 - val_acc: 0.9343\n",
      "Epoch 6/20\n",
      "343/343 [==============================] - 58s 170ms/step - loss: 0.1706 - acc: 0.9475 - val_loss: 0.2173 - val_acc: 0.9311\n",
      "Epoch 7/20\n",
      "343/343 [==============================] - 60s 175ms/step - loss: 0.1578 - acc: 0.9504 - val_loss: 0.2140 - val_acc: 0.9366\n",
      "Epoch 8/20\n",
      "343/343 [==============================] - 62s 180ms/step - loss: 0.1504 - acc: 0.9523 - val_loss: 0.2062 - val_acc: 0.9374\n",
      "Epoch 9/20\n",
      "343/343 [==============================] - 57s 167ms/step - loss: 0.1354 - acc: 0.9561 - val_loss: 0.2093 - val_acc: 0.9359\n",
      "Epoch 10/20\n",
      "343/343 [==============================] - 80s 233ms/step - loss: 0.1286 - acc: 0.9581 - val_loss: 0.2078 - val_acc: 0.9381\n",
      "Epoch 11/20\n",
      "343/343 [==============================] - 67s 195ms/step - loss: 0.1243 - acc: 0.9589 - val_loss: 0.2123 - val_acc: 0.9385\n",
      "Epoch 12/20\n",
      "343/343 [==============================] - 53s 154ms/step - loss: 0.1202 - acc: 0.9603 - val_loss: 0.2207 - val_acc: 0.9383\n",
      "Epoch 13/20\n",
      "343/343 [==============================] - 52s 151ms/step - loss: 0.1162 - acc: 0.9613 - val_loss: 0.2165 - val_acc: 0.9365\n",
      "Epoch 14/20\n",
      "343/343 [==============================] - 51s 150ms/step - loss: 0.1107 - acc: 0.9629 - val_loss: 0.2198 - val_acc: 0.9371\n",
      "Epoch 15/20\n",
      "343/343 [==============================] - 51s 150ms/step - loss: 0.1089 - acc: 0.9635 - val_loss: 0.2232 - val_acc: 0.9359\n",
      "Epoch 16/20\n",
      "343/343 [==============================] - 52s 151ms/step - loss: 0.1079 - acc: 0.9640 - val_loss: 0.2206 - val_acc: 0.9380\n",
      "Epoch 17/20\n",
      "343/343 [==============================] - 53s 155ms/step - loss: 0.1052 - acc: 0.9645 - val_loss: 0.2302 - val_acc: 0.9389\n",
      "Epoch 18/20\n",
      "343/343 [==============================] - 54s 157ms/step - loss: 0.1039 - acc: 0.9650 - val_loss: 0.2294 - val_acc: 0.9362\n",
      "Epoch 19/20\n",
      "343/343 [==============================] - 54s 158ms/step - loss: 0.1010 - acc: 0.9658 - val_loss: 0.2274 - val_acc: 0.9377\n",
      "Epoch 20/20\n",
      "343/343 [==============================] - 54s 158ms/step - loss: 0.1025 - acc: 0.9656 - val_loss: 0.2300 - val_acc: 0.9382\n"
     ]
    }
   ],
   "source": [
    "rnn_training = rnn_model.fit(X_train, Y_train, batch_size=128, epochs=20, validation_data=(X_validation, Y_validation))"
   ]
  },
  {
   "cell_type": "code",
   "execution_count": 107,
   "metadata": {
    "execution": {
     "iopub.execute_input": "2020-09-03T03:18:37.747470Z",
     "iopub.status.busy": "2020-09-03T03:18:37.746196Z",
     "iopub.status.idle": "2020-09-03T03:18:37.973485Z",
     "shell.execute_reply": "2020-09-03T03:18:37.972864Z"
    },
    "papermill": {
     "duration": 1.045267,
     "end_time": "2020-09-03T03:18:37.973634",
     "exception": false,
     "start_time": "2020-09-03T03:18:36.928367",
     "status": "completed"
    },
    "scrolled": true,
    "tags": []
   },
   "outputs": [
    {
     "data": {
      "image/png": "[encoded data removed]",
      "text/plain": [
       "<Figure size 432x288 with 1 Axes>"
      ]
     },
     "metadata": {
      "needs_background": "light"
     },
     "output_type": "display_data"
    }
   ],
   "source": [
    "# visualizar histórico de treinamento\n",
    "plt.plot(rnn_training.history['acc'])\n",
    "plt.plot(rnn_training.history['val_acc'])\n",
    "plt.title('model accuracy')\n",
    "plt.ylabel('accuracy')\n",
    "plt.xlabel('epoch')\n",
    "plt.legend(['train', 'test'], loc=\"lower right\")\n",
    "plt.show()"
   ]
  },
  {
   "cell_type": "markdown",
   "metadata": {
    "papermill": {
     "duration": 0.816061,
     "end_time": "2020-09-03T03:18:39.658087",
     "exception": false,
     "start_time": "2020-09-03T03:18:38.842026",
     "status": "completed"
    },
    "tags": []
   },
   "source": [
    "# 2. LSTM"
   ]
  },
  {
   "cell_type": "markdown",
   "metadata": {
    "papermill": {
     "duration": 0.859659,
     "end_time": "2020-09-03T03:18:41.366855",
     "exception": false,
     "start_time": "2020-09-03T03:18:40.507196",
     "status": "completed"
    },
    "tags": []
   },
   "source": [
    "Usaremos embeddings de palavras pré-treinados nos modelos a seguir e permitiremos que eles sejam atualizados também."
   ]
  },
  {
   "cell_type": "markdown",
   "metadata": {
    "papermill": {
     "duration": 0.878498,
     "end_time": "2020-09-03T03:18:43.047598",
     "exception": false,
     "start_time": "2020-09-03T03:18:42.169100",
     "status": "completed"
    },
    "tags": []
   },
   "source": [
    "## Arquitetura"
   ]
  },
  {
   "cell_type": "code",
   "execution_count": 108,
   "metadata": {
    "execution": {
     "iopub.execute_input": "2020-09-03T03:18:44.656662Z",
     "iopub.status.busy": "2020-09-03T03:18:44.651214Z",
     "iopub.status.idle": "2020-09-03T03:18:45.155993Z",
     "shell.execute_reply": "2020-09-03T03:18:45.155250Z"
    },
    "papermill": {
     "duration": 1.312957,
     "end_time": "2020-09-03T03:18:45.156118",
     "exception": false,
     "start_time": "2020-09-03T03:18:43.843161",
     "status": "completed"
    },
    "tags": []
   },
   "outputs": [],
   "source": [
    "\n",
    "lstm_model = Sequential()\n",
    "lstm_model.add(Embedding(input_dim     = VOCABULARY_SIZE,         \n",
    "                         output_dim    = EMBEDDING_SIZE,          \n",
    "                         input_length  = MAX_SEQ_LENGTH,          \n",
    "                         weights       = [embedding_weights],     \n",
    "                         trainable     = True                     \n",
    "))\n",
    "lstm_model.add(LSTM(64, return_sequences=True))\n",
    "lstm_model.add(TimeDistributed(Dense(NUM_CLASSES, activation='softmax')))"
   ]
  },
  {
   "cell_type": "markdown",
   "metadata": {
    "papermill": {
     "duration": 0.8509,
     "end_time": "2020-09-03T03:18:46.879982",
     "exception": false,
     "start_time": "2020-09-03T03:18:46.029082",
     "status": "completed"
    },
    "tags": []
   },
   "source": [
    "## Compile modelo"
   ]
  },
  {
   "cell_type": "code",
   "execution_count": 109,
   "metadata": {
    "execution": {
     "iopub.execute_input": "2020-09-03T03:18:48.620624Z",
     "iopub.status.busy": "2020-09-03T03:18:48.618612Z",
     "iopub.status.idle": "2020-09-03T03:18:48.623688Z",
     "shell.execute_reply": "2020-09-03T03:18:48.622957Z"
    },
    "papermill": {
     "duration": 0.871434,
     "end_time": "2020-09-03T03:18:48.623810",
     "exception": false,
     "start_time": "2020-09-03T03:18:47.752376",
     "status": "completed"
    },
    "tags": []
   },
   "outputs": [],
   "source": [
    "lstm_model.compile(loss      =  'categorical_crossentropy',\n",
    "                   optimizer =  'adam',\n",
    "                   metrics   =  ['acc'])"
   ]
  },
  {
   "cell_type": "code",
   "execution_count": 110,
   "metadata": {
    "execution": {
     "iopub.execute_input": "2020-09-03T03:18:50.287649Z",
     "iopub.status.busy": "2020-09-03T03:18:50.286683Z",
     "iopub.status.idle": "2020-09-03T03:18:50.292466Z",
     "shell.execute_reply": "2020-09-03T03:18:50.291081Z"
    },
    "papermill": {
     "duration": 0.868667,
     "end_time": "2020-09-03T03:18:50.292670",
     "exception": false,
     "start_time": "2020-09-03T03:18:49.424003",
     "status": "completed"
    },
    "tags": []
   },
   "outputs": [
    {
     "name": "stdout",
     "output_type": "stream",
     "text": [
      "Model: \"sequential_9\"\n",
      "_________________________________________________________________\n",
      "Layer (type)                 Output Shape              Param #   \n",
      "=================================================================\n",
      "embedding_9 (Embedding)      (None, 70, 50)            3578500   \n",
      "_________________________________________________________________\n",
      "lstm_2 (LSTM)                (None, 70, 64)            29440     \n",
      "_________________________________________________________________\n",
      "time_distributed_9 (TimeDist (None, 70, 342)           22230     \n",
      "=================================================================\n",
      "Total params: 3,630,170\n",
      "Trainable params: 3,630,170\n",
      "Non-trainable params: 0\n",
      "_________________________________________________________________\n"
     ]
    }
   ],
   "source": [
    "lstm_model.summary()"
   ]
  },
  {
   "cell_type": "markdown",
   "metadata": {
    "papermill": {
     "duration": 0.852024,
     "end_time": "2020-09-03T03:18:51.945598",
     "exception": false,
     "start_time": "2020-09-03T03:18:51.093574",
     "status": "completed"
    },
    "tags": []
   },
   "source": [
    "## Fit modelo"
   ]
  },
  {
   "cell_type": "code",
   "execution_count": 111,
   "metadata": {
    "execution": {
     "iopub.execute_input": "2020-09-03T03:18:53.893314Z",
     "iopub.status.busy": "2020-09-03T03:18:53.892262Z",
     "iopub.status.idle": "2020-09-03T03:42:24.341626Z",
     "shell.execute_reply": "2020-09-03T03:42:24.340872Z"
    },
    "papermill": {
     "duration": 1411.524988,
     "end_time": "2020-09-03T03:42:24.341760",
     "exception": false,
     "start_time": "2020-09-03T03:18:52.816772",
     "status": "completed"
    },
    "tags": []
   },
   "outputs": [
    {
     "name": "stdout",
     "output_type": "stream",
     "text": [
      "Epoch 1/20\n",
      "343/343 [==============================] - 76s 204ms/step - loss: 2.5615 - acc: 0.7417 - val_loss: 0.6519 - val_acc: 0.8371\n",
      "Epoch 2/20\n",
      "343/343 [==============================] - 68s 198ms/step - loss: 0.5590 - acc: 0.8643 - val_loss: 0.3807 - val_acc: 0.9015\n",
      "Epoch 3/20\n",
      "343/343 [==============================] - 69s 202ms/step - loss: 0.3541 - acc: 0.9060 - val_loss: 0.3088 - val_acc: 0.9118\n",
      "Epoch 4/20\n",
      "343/343 [==============================] - 69s 200ms/step - loss: 0.2936 - acc: 0.9146 - val_loss: 0.2688 - val_acc: 0.9175\n",
      "Epoch 5/20\n",
      "343/343 [==============================] - 69s 201ms/step - loss: 0.2450 - acc: 0.9249 - val_loss: 0.2375 - val_acc: 0.9282\n",
      "Epoch 6/20\n",
      "343/343 [==============================] - 69s 200ms/step - loss: 0.2115 - acc: 0.9363 - val_loss: 0.2209 - val_acc: 0.9326\n",
      "Epoch 7/20\n",
      "343/343 [==============================] - 69s 201ms/step - loss: 0.1862 - acc: 0.9429 - val_loss: 0.2128 - val_acc: 0.9349\n",
      "Epoch 8/20\n",
      "343/343 [==============================] - 69s 202ms/step - loss: 0.1661 - acc: 0.9477 - val_loss: 0.2101 - val_acc: 0.9346\n",
      "Epoch 9/20\n",
      "343/343 [==============================] - 71s 206ms/step - loss: 0.1541 - acc: 0.9505 - val_loss: 0.2098 - val_acc: 0.9353\n",
      "Epoch 10/20\n",
      "343/343 [==============================] - 69s 202ms/step - loss: 0.1444 - acc: 0.9528 - val_loss: 0.2066 - val_acc: 0.9365\n",
      "Epoch 11/20\n",
      "343/343 [==============================] - 70s 203ms/step - loss: 0.1362 - acc: 0.9549 - val_loss: 0.2105 - val_acc: 0.9362\n",
      "Epoch 12/20\n",
      "343/343 [==============================] - 70s 204ms/step - loss: 0.1288 - acc: 0.9568 - val_loss: 0.2118 - val_acc: 0.9372\n",
      "Epoch 13/20\n",
      "343/343 [==============================] - 70s 204ms/step - loss: 0.1248 - acc: 0.9580 - val_loss: 0.2162 - val_acc: 0.9361\n",
      "Epoch 14/20\n",
      "343/343 [==============================] - 70s 203ms/step - loss: 0.1222 - acc: 0.9584 - val_loss: 0.2161 - val_acc: 0.9374\n",
      "Epoch 15/20\n",
      "343/343 [==============================] - 70s 203ms/step - loss: 0.1211 - acc: 0.9591 - val_loss: 0.2156 - val_acc: 0.9369\n",
      "Epoch 16/20\n",
      "343/343 [==============================] - 70s 204ms/step - loss: 0.1143 - acc: 0.9609 - val_loss: 0.2199 - val_acc: 0.9369\n",
      "Epoch 17/20\n",
      "343/343 [==============================] - 70s 203ms/step - loss: 0.1110 - acc: 0.9620 - val_loss: 0.2212 - val_acc: 0.9374\n",
      "Epoch 18/20\n",
      "343/343 [==============================] - 70s 204ms/step - loss: 0.1075 - acc: 0.9631 - val_loss: 0.2303 - val_acc: 0.9368\n",
      "Epoch 19/20\n",
      "343/343 [==============================] - 70s 203ms/step - loss: 0.1044 - acc: 0.9641 - val_loss: 0.2355 - val_acc: 0.9352\n",
      "Epoch 20/20\n",
      "343/343 [==============================] - 70s 204ms/step - loss: 0.1037 - acc: 0.9643 - val_loss: 0.2393 - val_acc: 0.9355\n"
     ]
    }
   ],
   "source": [
    "lstm_training = lstm_model.fit(X_train, Y_train, batch_size=128, epochs=20, validation_data=(X_validation, Y_validation))"
   ]
  },
  {
   "cell_type": "code",
   "execution_count": 112,
   "metadata": {
    "execution": {
     "iopub.execute_input": "2020-09-03T03:42:26.560602Z",
     "iopub.status.busy": "2020-09-03T03:42:26.559867Z",
     "iopub.status.idle": "2020-09-03T03:42:26.754648Z",
     "shell.execute_reply": "2020-09-03T03:42:26.753909Z"
    },
    "papermill": {
     "duration": 1.260459,
     "end_time": "2020-09-03T03:42:26.754770",
     "exception": false,
     "start_time": "2020-09-03T03:42:25.494311",
     "status": "completed"
    },
    "tags": []
   },
   "outputs": [
    {
     "data": {
      "image/png": "[encoded data removed]",
      "text/plain": [
       "<Figure size 432x288 with 1 Axes>"
      ]
     },
     "metadata": {
      "needs_background": "light"
     },
     "output_type": "display_data"
    }
   ],
   "source": [
    "# visualizar histórico de treinamento\n",
    "plt.plot(lstm_training.history['acc'])\n",
    "plt.plot(lstm_training.history['val_acc'])\n",
    "plt.title('model accuracy')\n",
    "plt.ylabel('accuracy')\n",
    "plt.xlabel('epoch')\n",
    "plt.legend(['train', 'test'], loc=\"lower right\")\n",
    "plt.show()"
   ]
  },
  {
   "cell_type": "markdown",
   "metadata": {
    "collapsed": true,
    "papermill": {
     "duration": 1.119654,
     "end_time": "2020-09-03T03:42:29.000314",
     "exception": false,
     "start_time": "2020-09-03T03:42:27.880660",
     "status": "completed"
    },
    "tags": []
   },
   "source": [
    "# 2. GRU"
   ]
  },
  {
   "cell_type": "markdown",
   "metadata": {
    "papermill": {
     "duration": 1.168748,
     "end_time": "2020-09-03T03:42:31.234069",
     "exception": false,
     "start_time": "2020-09-03T03:42:30.065321",
     "status": "completed"
    },
    "tags": []
   },
   "source": [
    "## Arquitetura"
   ]
  },
  {
   "cell_type": "code",
   "execution_count": 113,
   "metadata": {
    "execution": {
     "iopub.execute_input": "2020-09-03T03:42:33.424698Z",
     "iopub.status.busy": "2020-09-03T03:42:33.423736Z",
     "iopub.status.idle": "2020-09-03T03:42:33.862237Z",
     "shell.execute_reply": "2020-09-03T03:42:33.861584Z"
    },
    "papermill": {
     "duration": 1.565817,
     "end_time": "2020-09-03T03:42:33.862358",
     "exception": false,
     "start_time": "2020-09-03T03:42:32.296541",
     "status": "completed"
    },
    "tags": []
   },
   "outputs": [],
   "source": [
    "# create architecture\n",
    "\n",
    "gru_model = Sequential()\n",
    "gru_model.add(Embedding(input_dim     = VOCABULARY_SIZE,\n",
    "                        output_dim    = EMBEDDING_SIZE,\n",
    "                        input_length  = MAX_SEQ_LENGTH,\n",
    "                        weights       = [embedding_weights],\n",
    "                        trainable     = True\n",
    "))\n",
    "gru_model.add(GRU(64, return_sequences=True))\n",
    "gru_model.add(TimeDistributed(Dense(NUM_CLASSES, activation='softmax')))"
   ]
  },
  {
   "cell_type": "markdown",
   "metadata": {
    "papermill": {
     "duration": 1.113542,
     "end_time": "2020-09-03T03:42:36.088385",
     "exception": false,
     "start_time": "2020-09-03T03:42:34.974843",
     "status": "completed"
    },
    "tags": []
   },
   "source": [
    "## Compile modelo"
   ]
  },
  {
   "cell_type": "code",
   "execution_count": 114,
   "metadata": {
    "execution": {
     "iopub.execute_input": "2020-09-03T03:42:38.321673Z",
     "iopub.status.busy": "2020-09-03T03:42:38.319718Z",
     "iopub.status.idle": "2020-09-03T03:42:38.324751Z",
     "shell.execute_reply": "2020-09-03T03:42:38.324119Z"
    },
    "papermill": {
     "duration": 1.137113,
     "end_time": "2020-09-03T03:42:38.324872",
     "exception": false,
     "start_time": "2020-09-03T03:42:37.187759",
     "status": "completed"
    },
    "tags": []
   },
   "outputs": [],
   "source": [
    "gru_model.compile(loss='categorical_crossentropy',\n",
    "              optimizer='adam',\n",
    "              metrics=['acc'])"
   ]
  },
  {
   "cell_type": "code",
   "execution_count": 115,
   "metadata": {
    "execution": {
     "iopub.execute_input": "2020-09-03T03:42:40.499421Z",
     "iopub.status.busy": "2020-09-03T03:42:40.498702Z",
     "iopub.status.idle": "2020-09-03T03:42:40.503287Z",
     "shell.execute_reply": "2020-09-03T03:42:40.502269Z"
    },
    "papermill": {
     "duration": 1.119621,
     "end_time": "2020-09-03T03:42:40.503447",
     "exception": false,
     "start_time": "2020-09-03T03:42:39.383826",
     "status": "completed"
    },
    "tags": []
   },
   "outputs": [
    {
     "name": "stdout",
     "output_type": "stream",
     "text": [
      "Model: \"sequential_10\"\n",
      "_________________________________________________________________\n",
      "Layer (type)                 Output Shape              Param #   \n",
      "=================================================================\n",
      "embedding_10 (Embedding)     (None, 70, 50)            3578500   \n",
      "_________________________________________________________________\n",
      "gru_1 (GRU)                  (None, 70, 64)            22272     \n",
      "_________________________________________________________________\n",
      "time_distributed_10 (TimeDis (None, 70, 342)           22230     \n",
      "=================================================================\n",
      "Total params: 3,623,002\n",
      "Trainable params: 3,623,002\n",
      "Non-trainable params: 0\n",
      "_________________________________________________________________\n"
     ]
    }
   ],
   "source": [
    "gru_model.summary()"
   ]
  },
  {
   "cell_type": "markdown",
   "metadata": {
    "papermill": {
     "duration": 1.11747,
     "end_time": "2020-09-03T03:42:42.730315",
     "exception": false,
     "start_time": "2020-09-03T03:42:41.612845",
     "status": "completed"
    },
    "tags": []
   },
   "source": [
    "## Fit modelo"
   ]
  },
  {
   "cell_type": "code",
   "execution_count": 116,
   "metadata": {
    "execution": {
     "iopub.execute_input": "2020-09-03T03:42:45.157915Z",
     "iopub.status.busy": "2020-09-03T03:42:45.157166Z",
     "iopub.status.idle": "2020-09-03T04:05:36.932023Z",
     "shell.execute_reply": "2020-09-03T04:05:36.930990Z"
    },
    "papermill": {
     "duration": 1373.139163,
     "end_time": "2020-09-03T04:05:36.932240",
     "exception": false,
     "start_time": "2020-09-03T03:42:43.793077",
     "status": "completed"
    },
    "tags": []
   },
   "outputs": [
    {
     "name": "stdout",
     "output_type": "stream",
     "text": [
      "Epoch 1/20\n",
      "343/343 [==============================] - 67s 187ms/step - loss: 2.4354 - acc: 0.7585 - val_loss: 0.5093 - val_acc: 0.8736\n",
      "Epoch 2/20\n",
      "343/343 [==============================] - 63s 184ms/step - loss: 0.4308 - acc: 0.8900 - val_loss: 0.3180 - val_acc: 0.9100\n",
      "Epoch 3/20\n",
      "343/343 [==============================] - 63s 184ms/step - loss: 0.2986 - acc: 0.9132 - val_loss: 0.2648 - val_acc: 0.9196\n",
      "Epoch 4/20\n",
      "343/343 [==============================] - 63s 185ms/step - loss: 0.2450 - acc: 0.9255 - val_loss: 0.2235 - val_acc: 0.9308\n",
      "Epoch 5/20\n",
      "343/343 [==============================] - 63s 185ms/step - loss: 0.1997 - acc: 0.9372 - val_loss: 0.2038 - val_acc: 0.9353\n",
      "Epoch 6/20\n",
      "343/343 [==============================] - 63s 185ms/step - loss: 0.1690 - acc: 0.9457 - val_loss: 0.1956 - val_acc: 0.9363\n",
      "Epoch 7/20\n",
      "343/343 [==============================] - 63s 185ms/step - loss: 0.1502 - acc: 0.9506 - val_loss: 0.1954 - val_acc: 0.9374\n",
      "Epoch 8/20\n",
      "343/343 [==============================] - 63s 184ms/step - loss: 0.1388 - acc: 0.9534 - val_loss: 0.1950 - val_acc: 0.9388\n",
      "Epoch 9/20\n",
      "343/343 [==============================] - 64s 185ms/step - loss: 0.1293 - acc: 0.9565 - val_loss: 0.1978 - val_acc: 0.9374\n",
      "Epoch 10/20\n",
      "343/343 [==============================] - 64s 186ms/step - loss: 0.1216 - acc: 0.9587 - val_loss: 0.2006 - val_acc: 0.9374\n",
      "Epoch 11/20\n",
      "343/343 [==============================] - 63s 185ms/step - loss: 0.1151 - acc: 0.9605 - val_loss: 0.2038 - val_acc: 0.9390\n",
      "Epoch 12/20\n",
      "343/343 [==============================] - 63s 185ms/step - loss: 0.1108 - acc: 0.9618 - val_loss: 0.2077 - val_acc: 0.9378\n",
      "Epoch 13/20\n",
      "343/343 [==============================] - 63s 185ms/step - loss: 0.1076 - acc: 0.9627 - val_loss: 0.2127 - val_acc: 0.9383\n",
      "Epoch 14/20\n",
      "343/343 [==============================] - 64s 186ms/step - loss: 0.1041 - acc: 0.9638 - val_loss: 0.2164 - val_acc: 0.9387\n",
      "Epoch 15/20\n",
      "343/343 [==============================] - 64s 185ms/step - loss: 0.0992 - acc: 0.9655 - val_loss: 0.2204 - val_acc: 0.9376\n",
      "Epoch 16/20\n",
      "343/343 [==============================] - 64s 186ms/step - loss: 0.0985 - acc: 0.9656 - val_loss: 0.2229 - val_acc: 0.9376\n",
      "Epoch 17/20\n",
      "343/343 [==============================] - 63s 185ms/step - loss: 0.0957 - acc: 0.9665 - val_loss: 0.2330 - val_acc: 0.9381\n",
      "Epoch 18/20\n",
      "343/343 [==============================] - 63s 185ms/step - loss: 0.0923 - acc: 0.9676 - val_loss: 0.2336 - val_acc: 0.9375\n",
      "Epoch 19/20\n",
      "343/343 [==============================] - 64s 185ms/step - loss: 0.0902 - acc: 0.9685 - val_loss: 0.2432 - val_acc: 0.9331\n",
      "Epoch 20/20\n",
      "343/343 [==============================] - 64s 185ms/step - loss: 0.0883 - acc: 0.9691 - val_loss: 0.2449 - val_acc: 0.9367\n"
     ]
    }
   ],
   "source": [
    "gru_training = gru_model.fit(X_train, Y_train, batch_size=128, epochs=20, validation_data=(X_validation, Y_validation))"
   ]
  },
  {
   "cell_type": "code",
   "execution_count": 117,
   "metadata": {
    "execution": {
     "iopub.execute_input": "2020-09-03T04:05:39.740634Z",
     "iopub.status.busy": "2020-09-03T04:05:39.739315Z",
     "iopub.status.idle": "2020-09-03T04:05:39.990549Z",
     "shell.execute_reply": "2020-09-03T04:05:39.989927Z"
    },
    "papermill": {
     "duration": 1.659298,
     "end_time": "2020-09-03T04:05:39.990679",
     "exception": false,
     "start_time": "2020-09-03T04:05:38.331381",
     "status": "completed"
    },
    "tags": []
   },
   "outputs": [
    {
     "data": {
      "image/png": "[encoded data removed]",
      "text/plain": [
       "<Figure size 432x288 with 1 Axes>"
      ]
     },
     "metadata": {
      "needs_background": "light"
     },
     "output_type": "display_data"
    }
   ],
   "source": [
    "# visualizar histórico de treinamento\n",
    "plt.plot(gru_training.history['acc'])\n",
    "plt.plot(gru_training.history['val_acc'])\n",
    "plt.title('model accuracy')\n",
    "plt.ylabel('accuracy')\n",
    "plt.xlabel('epoch')\n",
    "plt.legend(['train', 'test'], loc=\"lower right\")\n",
    "plt.show()"
   ]
  },
  {
   "cell_type": "markdown",
   "metadata": {
    "papermill": {
     "duration": 1.463349,
     "end_time": "2020-09-03T04:05:42.872140",
     "exception": false,
     "start_time": "2020-09-03T04:05:41.408791",
     "status": "completed"
    },
    "tags": []
   },
   "source": [
    "# 3. Bidirectional LSTM"
   ]
  },
  {
   "cell_type": "markdown",
   "metadata": {
    "papermill": {
     "duration": 1.406023,
     "end_time": "2020-09-03T04:05:45.642074",
     "exception": false,
     "start_time": "2020-09-03T04:05:44.236051",
     "status": "completed"
    },
    "tags": []
   },
   "source": [
    "## Arquitetura"
   ]
  },
  {
   "cell_type": "code",
   "execution_count": 118,
   "metadata": {
    "execution": {
     "iopub.execute_input": "2020-09-03T04:05:48.484800Z",
     "iopub.status.busy": "2020-09-03T04:05:48.473349Z",
     "iopub.status.idle": "2020-09-03T04:05:49.263302Z",
     "shell.execute_reply": "2020-09-03T04:05:49.262660Z"
    },
    "papermill": {
     "duration": 2.213624,
     "end_time": "2020-09-03T04:05:49.263438",
     "exception": false,
     "start_time": "2020-09-03T04:05:47.049814",
     "status": "completed"
    },
    "tags": []
   },
   "outputs": [],
   "source": [
    "bidirect_model = Sequential()\n",
    "bidirect_model.add(Embedding(input_dim     = VOCABULARY_SIZE,\n",
    "                             output_dim    = EMBEDDING_SIZE,\n",
    "                             input_length  = MAX_SEQ_LENGTH,\n",
    "                             weights       = [embedding_weights],\n",
    "                             trainable     = True\n",
    "))\n",
    "bidirect_model.add(Bidirectional(LSTM(64, return_sequences=True)))\n",
    "bidirect_model.add(TimeDistributed(Dense(NUM_CLASSES, activation='softmax')))"
   ]
  },
  {
   "cell_type": "markdown",
   "metadata": {
    "papermill": {
     "duration": 1.416264,
     "end_time": "2020-09-03T04:05:52.087091",
     "exception": false,
     "start_time": "2020-09-03T04:05:50.670827",
     "status": "completed"
    },
    "tags": []
   },
   "source": [
    "## Compile modelo"
   ]
  },
  {
   "cell_type": "code",
   "execution_count": 119,
   "metadata": {
    "execution": {
     "iopub.execute_input": "2020-09-03T04:05:54.878974Z",
     "iopub.status.busy": "2020-09-03T04:05:54.878236Z",
     "iopub.status.idle": "2020-09-03T04:05:54.883922Z",
     "shell.execute_reply": "2020-09-03T04:05:54.884521Z"
    },
    "papermill": {
     "duration": 1.423384,
     "end_time": "2020-09-03T04:05:54.884678",
     "exception": false,
     "start_time": "2020-09-03T04:05:53.461294",
     "status": "completed"
    },
    "tags": []
   },
   "outputs": [],
   "source": [
    "bidirect_model.compile(loss='categorical_crossentropy',\n",
    "              optimizer='adam',\n",
    "              metrics=['acc'])"
   ]
  },
  {
   "cell_type": "code",
   "execution_count": 120,
   "metadata": {
    "execution": {
     "iopub.execute_input": "2020-09-03T04:05:57.802945Z",
     "iopub.status.busy": "2020-09-03T04:05:57.800521Z",
     "iopub.status.idle": "2020-09-03T04:05:57.810038Z",
     "shell.execute_reply": "2020-09-03T04:05:57.809430Z"
    },
    "papermill": {
     "duration": 1.425467,
     "end_time": "2020-09-03T04:05:57.810170",
     "exception": false,
     "start_time": "2020-09-03T04:05:56.384703",
     "status": "completed"
    },
    "tags": []
   },
   "outputs": [
    {
     "name": "stdout",
     "output_type": "stream",
     "text": [
      "Model: \"sequential_11\"\n",
      "_________________________________________________________________\n",
      "Layer (type)                 Output Shape              Param #   \n",
      "=================================================================\n",
      "embedding_11 (Embedding)     (None, 70, 50)            3578500   \n",
      "_________________________________________________________________\n",
      "bidirectional_1 (Bidirection (None, 70, 128)           58880     \n",
      "_________________________________________________________________\n",
      "time_distributed_11 (TimeDis (None, 70, 342)           44118     \n",
      "=================================================================\n",
      "Total params: 3,681,498\n",
      "Trainable params: 3,681,498\n",
      "Non-trainable params: 0\n",
      "_________________________________________________________________\n"
     ]
    }
   ],
   "source": [
    "bidirect_model.summary()"
   ]
  },
  {
   "cell_type": "markdown",
   "metadata": {
    "papermill": {
     "duration": 1.40488,
     "end_time": "2020-09-03T04:06:00.625895",
     "exception": false,
     "start_time": "2020-09-03T04:05:59.221015",
     "status": "completed"
    },
    "tags": []
   },
   "source": [
    "## Fit modelo"
   ]
  },
  {
   "cell_type": "code",
   "execution_count": 121,
   "metadata": {
    "execution": {
     "iopub.execute_input": "2020-09-03T04:06:03.635498Z",
     "iopub.status.busy": "2020-09-03T04:06:03.634320Z",
     "iopub.status.idle": "2020-09-03T04:38:24.026993Z",
     "shell.execute_reply": "2020-09-03T04:38:24.027649Z"
    },
    "papermill": {
     "duration": 1942.06392,
     "end_time": "2020-09-03T04:38:24.027838",
     "exception": false,
     "start_time": "2020-09-03T04:06:01.963918",
     "status": "completed"
    },
    "tags": []
   },
   "outputs": [
    {
     "name": "stdout",
     "output_type": "stream",
     "text": [
      "Epoch 1/20\n",
      "343/343 [==============================] - 91s 247ms/step - loss: 2.0327 - acc: 0.7444 - val_loss: 0.4268 - val_acc: 0.8955\n",
      "Epoch 2/20\n",
      "343/343 [==============================] - 86s 250ms/step - loss: 0.3581 - acc: 0.9118 - val_loss: 0.1874 - val_acc: 0.9551\n",
      "Epoch 3/20\n",
      "343/343 [==============================] - 89s 260ms/step - loss: 0.1696 - acc: 0.9589 - val_loss: 0.1390 - val_acc: 0.9650\n",
      "Epoch 4/20\n",
      "343/343 [==============================] - 86s 252ms/step - loss: 0.1253 - acc: 0.9685 - val_loss: 0.1169 - val_acc: 0.9702\n",
      "Epoch 5/20\n",
      "343/343 [==============================] - 88s 257ms/step - loss: 0.1047 - acc: 0.9735 - val_loss: 0.1035 - val_acc: 0.9728\n",
      "Epoch 6/20\n",
      "343/343 [==============================] - 87s 255ms/step - loss: 0.0868 - acc: 0.9775 - val_loss: 0.0941 - val_acc: 0.9750\n",
      "Epoch 7/20\n",
      "343/343 [==============================] - 87s 253ms/step - loss: 0.0760 - acc: 0.9800 - val_loss: 0.0893 - val_acc: 0.9762\n",
      "Epoch 8/20\n",
      "343/343 [==============================] - 86s 251ms/step - loss: 0.0664 - acc: 0.9825 - val_loss: 0.0854 - val_acc: 0.9771\n",
      "Epoch 9/20\n",
      "343/343 [==============================] - 88s 257ms/step - loss: 0.0586 - acc: 0.9843 - val_loss: 0.0827 - val_acc: 0.9780\n",
      "Epoch 10/20\n",
      "343/343 [==============================] - 87s 255ms/step - loss: 0.0527 - acc: 0.9859 - val_loss: 0.0809 - val_acc: 0.9782\n",
      "Epoch 11/20\n",
      "343/343 [==============================] - 87s 253ms/step - loss: 0.0479 - acc: 0.9872 - val_loss: 0.0795 - val_acc: 0.9792\n",
      "Epoch 12/20\n",
      "343/343 [==============================] - 87s 253ms/step - loss: 0.0446 - acc: 0.9881 - val_loss: 0.0820 - val_acc: 0.9783\n",
      "Epoch 13/20\n",
      "343/343 [==============================] - 88s 256ms/step - loss: 0.0407 - acc: 0.9890 - val_loss: 0.0774 - val_acc: 0.9798\n",
      "Epoch 14/20\n",
      "343/343 [==============================] - 88s 256ms/step - loss: 0.0397 - acc: 0.9894 - val_loss: 0.0783 - val_acc: 0.9795\n",
      "Epoch 15/20\n",
      "343/343 [==============================] - 88s 256ms/step - loss: 0.0355 - acc: 0.9904 - val_loss: 0.0780 - val_acc: 0.9799\n",
      "Epoch 16/20\n",
      "343/343 [==============================] - 88s 258ms/step - loss: 0.0338 - acc: 0.9910 - val_loss: 0.0787 - val_acc: 0.9800\n",
      "Epoch 17/20\n",
      "343/343 [==============================] - 88s 256ms/step - loss: 0.0324 - acc: 0.9912 - val_loss: 0.0816 - val_acc: 0.9795\n",
      "Epoch 18/20\n",
      "343/343 [==============================] - 88s 256ms/step - loss: 0.0315 - acc: 0.9915 - val_loss: 0.0797 - val_acc: 0.9799\n",
      "Epoch 19/20\n",
      "343/343 [==============================] - 89s 258ms/step - loss: 0.0278 - acc: 0.9925 - val_loss: 0.0798 - val_acc: 0.9800\n",
      "Epoch 20/20\n",
      "343/343 [==============================] - 89s 258ms/step - loss: 0.0260 - acc: 0.9930 - val_loss: 0.0838 - val_acc: 0.9795\n"
     ]
    }
   ],
   "source": [
    "bidirect_training = bidirect_model.fit(X_train, Y_train, batch_size=128, epochs=20, validation_data=(X_validation, Y_validation))"
   ]
  },
  {
   "cell_type": "code",
   "execution_count": 122,
   "metadata": {
    "execution": {
     "iopub.execute_input": "2020-09-03T04:38:27.351259Z",
     "iopub.status.busy": "2020-09-03T04:38:27.350461Z",
     "iopub.status.idle": "2020-09-03T04:38:27.539582Z",
     "shell.execute_reply": "2020-09-03T04:38:27.538856Z"
    },
    "papermill": {
     "duration": 1.877637,
     "end_time": "2020-09-03T04:38:27.539708",
     "exception": false,
     "start_time": "2020-09-03T04:38:25.662071",
     "status": "completed"
    },
    "tags": []
   },
   "outputs": [
    {
     "data": {
      "image/png": "[encoded data removed]",
      "text/plain": [
       "<Figure size 432x288 with 1 Axes>"
      ]
     },
     "metadata": {
      "needs_background": "light"
     },
     "output_type": "display_data"
    }
   ],
   "source": [
    "# visualizar histórico de treinamento\n",
    "plt.plot(bidirect_training.history['acc'])\n",
    "plt.plot(bidirect_training.history['val_acc'])\n",
    "plt.title('model accuracy')\n",
    "plt.ylabel('accuracy')\n",
    "plt.xlabel('epoch')\n",
    "plt.legend(['train', 'test'], loc=\"lower right\")\n",
    "plt.show()"
   ]
  },
  {
   "cell_type": "markdown",
   "metadata": {
    "papermill": {
     "duration": 1.68033,
     "end_time": "2020-09-03T04:38:30.904566",
     "exception": false,
     "start_time": "2020-09-03T04:38:29.224236",
     "status": "completed"
    },
    "tags": []
   },
   "source": [
    "# 5. Model evaluation"
   ]
  },
  {
   "cell_type": "code",
   "execution_count": 123,
   "metadata": {
    "execution": {
     "iopub.execute_input": "2020-09-03T04:38:34.250844Z",
     "iopub.status.busy": "2020-09-03T04:38:34.250083Z",
     "iopub.status.idle": "2020-09-03T04:38:37.828368Z",
     "shell.execute_reply": "2020-09-03T04:38:37.827685Z"
    },
    "papermill": {
     "duration": 5.207896,
     "end_time": "2020-09-03T04:38:37.828523",
     "exception": false,
     "start_time": "2020-09-03T04:38:32.620627",
     "status": "completed"
    },
    "tags": []
   },
   "outputs": [
    {
     "name": "stdout",
     "output_type": "stream",
     "text": [
      "285/285 [==============================] - 4s 12ms/step - loss: 0.2309 - acc: 0.9384\n",
      "Loss: 0.2309294492006302,\n",
      "Accuracy: 0.9383987188339233\n"
     ]
    }
   ],
   "source": [
    "loss, accuracy = rnn_model.evaluate(X_test, Y_test, verbose = 1)\n",
    "print(\"Loss: {0},\\nAccuracy: {1}\".format(loss, accuracy))"
   ]
  },
  {
   "cell_type": "code",
   "execution_count": 124,
   "metadata": {
    "execution": {
     "iopub.execute_input": "2020-09-03T04:38:41.226047Z",
     "iopub.status.busy": "2020-09-03T04:38:41.225291Z",
     "iopub.status.idle": "2020-09-03T04:38:47.642579Z",
     "shell.execute_reply": "2020-09-03T04:38:47.641947Z"
    },
    "papermill": {
     "duration": 8.140598,
     "end_time": "2020-09-03T04:38:47.642702",
     "exception": false,
     "start_time": "2020-09-03T04:38:39.502104",
     "status": "completed"
    },
    "tags": []
   },
   "outputs": [
    {
     "name": "stdout",
     "output_type": "stream",
     "text": [
      "285/285 [==============================] - 6s 22ms/step - loss: 0.2445 - acc: 0.9349\n",
      "Loss: 0.24453984200954437,\n",
      "Accuracy: 0.93489009141922\n"
     ]
    }
   ],
   "source": [
    "loss, accuracy = lstm_model.evaluate(X_test, Y_test, verbose = 1)\n",
    "print(\"Loss: {0},\\nAccuracy: {1}\".format(loss, accuracy))"
   ]
  },
  {
   "cell_type": "code",
   "execution_count": 125,
   "metadata": {
    "execution": {
     "iopub.execute_input": "2020-09-03T04:38:51.086900Z",
     "iopub.status.busy": "2020-09-03T04:38:51.086139Z",
     "iopub.status.idle": "2020-09-03T04:38:56.569752Z",
     "shell.execute_reply": "2020-09-03T04:38:56.569119Z"
    },
    "papermill": {
     "duration": 7.235234,
     "end_time": "2020-09-03T04:38:56.569897",
     "exception": false,
     "start_time": "2020-09-03T04:38:49.334663",
     "status": "completed"
    },
    "tags": []
   },
   "outputs": [
    {
     "name": "stdout",
     "output_type": "stream",
     "text": [
      "285/285 [==============================] - 5s 16ms/step - loss: 0.2454 - acc: 0.9370\n",
      "Loss: 0.24537524580955505,\n",
      "Accuracy: 0.9370360970497131\n"
     ]
    }
   ],
   "source": [
    "loss, accuracy = gru_model.evaluate(X_test, Y_test, verbose = 1)\n",
    "print(\"Loss: {0},\\nAccuracy: {1}\".format(loss, accuracy))"
   ]
  },
  {
   "cell_type": "code",
   "execution_count": 126,
   "metadata": {
    "execution": {
     "iopub.execute_input": "2020-09-03T04:39:00.065601Z",
     "iopub.status.busy": "2020-09-03T04:39:00.064802Z",
     "iopub.status.idle": "2020-09-03T04:39:08.381571Z",
     "shell.execute_reply": "2020-09-03T04:39:08.380863Z"
    },
    "papermill": {
     "duration": 10.11847,
     "end_time": "2020-09-03T04:39:08.381709",
     "exception": false,
     "start_time": "2020-09-03T04:38:58.263239",
     "status": "completed"
    },
    "tags": []
   },
   "outputs": [
    {
     "name": "stdout",
     "output_type": "stream",
     "text": [
      "285/285 [==============================] - 6s 21ms/step - loss: 0.0889 - acc: 0.9786\n",
      "Loss: 0.08889485150575638,\n",
      "Accuracy: 0.9786248207092285\n"
     ]
    }
   ],
   "source": [
    "loss, accuracy = bidirect_model.evaluate(X_test, Y_test, verbose = 1)\n",
    "print(\"Loss: {0},\\nAccuracy: {1}\".format(loss, accuracy))"
   ]
  },
  {
   "cell_type": "code",
   "execution_count": null,
   "metadata": {},
   "outputs": [],
   "source": []
  }
 ],
 "metadata": {
  "kernelspec": {
   "display_name": "Python 3",
   "language": "python",
   "name": "python3"
  },
  "language_info": {
   "codemirror_mode": {
    "name": "ipython",
    "version": 3
   },
   "file_extension": ".py",
   "mimetype": "text/x-python",
   "name": "python",
   "nbconvert_exporter": "python",
   "pygments_lexer": "ipython3",
   "version": "3.8.8"
  },
  "papermill": {
   "duration": 7474.624014,
   "end_time": "2020-09-03T04:39:10.820341",
   "environment_variables": {},
   "exception": null,
   "input_path": "__notebook__.ipynb",
   "output_path": "__notebook__.ipynb",
   "parameters": {},
   "start_time": "2020-09-03T02:34:36.196327",
   "version": "2.1.0"
  }
 },
 "nbformat": 4,
 "nbformat_minor": 4
}
